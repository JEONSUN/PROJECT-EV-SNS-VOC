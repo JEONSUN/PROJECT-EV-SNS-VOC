{
 "cells": [
  {
   "cell_type": "markdown",
   "id": "f9e582b5",
   "metadata": {},
   "source": [
    "### Word2Vec"
   ]
  },
  {
   "cell_type": "markdown",
   "id": "958a8112",
   "metadata": {},
   "source": [
    "#### * 라이브러리"
   ]
  },
  {
   "cell_type": "code",
   "execution_count": null,
   "id": "a05e4612",
   "metadata": {},
   "outputs": [],
   "source": [
    "import pandas as pd\n",
    "import numpy as np\n",
    "import re\n",
    "import networkx as nx\n",
    "import matplotlib.pyplot as plt\n",
    "import warnings\n",
    "warnings.filterwarnings(action='ignore')"
   ]
  },
  {
   "cell_type": "markdown",
   "id": "4f5944bd",
   "metadata": {},
   "source": [
    "#### * 파일 불러오기"
   ]
  },
  {
   "cell_type": "code",
   "execution_count": null,
   "id": "28a8ffa4",
   "metadata": {},
   "outputs": [],
   "source": [
    "data=pd.read_excel('최종 데이터셋.xlsx')\n",
    "\n",
    "data=data.reset_index()\n",
    "data.drop(['index','Unnamed: 0'],axis=1,inplace=True)\n",
    "\n",
    "data=data.fillna('')\n",
    "\n",
    "data['noun_va']=data['noun_va'].apply(lambda x:x.split(' '))\n",
    "data['nouns']=data['nouns'].apply(lambda x:x.split(' '))\n",
    "data['va']=data['va'].apply(lambda x:x.split(' '))"
   ]
  },
  {
   "cell_type": "markdown",
   "id": "9340fc4b",
   "metadata": {},
   "source": [
    "#### * 한글 글꼴 깨짐 방지"
   ]
  },
  {
   "cell_type": "code",
   "execution_count": null,
   "id": "06c2840b",
   "metadata": {},
   "outputs": [],
   "source": [
    "#한글 글꼴 깨짐 방지\n",
    "import matplotlib\n",
    "from matplotlib import font_manager, rc\n",
    "import platform\n",
    "\n",
    "font_name = font_manager.FontProperties(fname=\"c:/Windows/Fonts/malgun.ttf\").get_name()\n",
    "rc('font', family=font_name)"
   ]
  },
  {
   "cell_type": "markdown",
   "id": "f9127a67",
   "metadata": {},
   "source": [
    "#### * Word2Vec 분석"
   ]
  },
  {
   "cell_type": "code",
   "execution_count": null,
   "id": "abd1e3e2",
   "metadata": {},
   "outputs": [],
   "source": [
    "# word2vec을 통해 키워드별 거리를 살펴보기\n",
    "\n",
    "from gensim.models import Word2Vec\n",
    "\n",
    "model=Word2Vec(data['noun_va'],vector_size=300,window=5,hs=0,sample=0.00001,negative=6,\n",
    "               ns_exponent=0.75,batch_words=10000, ## hs : negative sampling\n",
    "               min_count=500,workers=5,sg=1) ## skip-gram\n",
    "\n",
    "word_vectors=model.wv\n",
    "vocabs=list(word_vectors.index_to_key)\n",
    "word_vectors_list=[word_vectors[v] for v in vocabs]"
   ]
  },
  {
   "cell_type": "markdown",
   "id": "6659de6e",
   "metadata": {},
   "source": [
    "#### * PCA를 이용한 시각화"
   ]
  },
  {
   "cell_type": "code",
   "execution_count": null,
   "id": "e842f8f5",
   "metadata": {},
   "outputs": [],
   "source": [
    "# PCA를 이용한 시각화\n",
    "from sklearn.decomposition import PCA\n",
    "\n",
    "pca=PCA(n_components=2)\n",
    "xys=pca.fit_transform(word_vectors_list)\n",
    "xs=xys[:,0]\n",
    "ys=xys[:,1]"
   ]
  },
  {
   "cell_type": "code",
   "execution_count": null,
   "id": "2e5c069c",
   "metadata": {},
   "outputs": [],
   "source": [
    "def plot_2d_graph(vocabs,xs,ys):\n",
    "    plt.figure(figsize=(10,10))\n",
    "    plt.scatter(xs,ys,marker='o')\n",
    "    for i,v in enumerate(vocabs):\n",
    "        plt.annotate(v,xy=(xs[i],ys[i]))"
   ]
  },
  {
   "cell_type": "code",
   "execution_count": null,
   "id": "2b845ff3",
   "metadata": {},
   "outputs": [],
   "source": [
    "import matplotlib.pyplot as plt\n",
    "%matplotlib nbagg\n",
    "\n",
    "plot_2d_graph(vocabs,xs,ys)"
   ]
  },
  {
   "cell_type": "code",
   "execution_count": null,
   "id": "8c4ff7b4",
   "metadata": {},
   "outputs": [],
   "source": [
    "model.wv.most_similar(positive=['충전'], topn=50) # 충전과 유사한 단어 50개 확인 (충전, 배터리, 비싸다, 느리다 등의 키워드로 확인)"
   ]
  },
  {
   "cell_type": "markdown",
   "id": "0cf44ae1",
   "metadata": {},
   "source": [
    "#### * T-SNE를 이용한 시각화"
   ]
  },
  {
   "cell_type": "code",
   "execution_count": null,
   "id": "2ce3e50a",
   "metadata": {},
   "outputs": [],
   "source": [
    "# T-SNE를 이용한 시각화\n",
    "from sklearn.manifold import TSNE\n",
    "\n",
    "tsne=TSNE(n_components=2)\n",
    "transformed=tsne.fit_transform(word_vectors_list)\n",
    "\n",
    "xs2=transformed[:,0]\n",
    "ys2=transformed[:,1]\n",
    "\n",
    "plt.figure(figsize=(10,10))\n",
    "plt.scatter(xs,ys)\n",
    "\n",
    "for i,v in enumerate(vocabs):\n",
    "    plt.annotate(v,xy=(xs2[i],ys2[i]))\n",
    "plt.show()"
   ]
  },
  {
   "cell_type": "markdown",
   "id": "fef0b7b2",
   "metadata": {},
   "source": [
    "#### * Word2Vec 모델 저장하고 로드하기 -> 구글 임베팅 프로젝터에 로드해서 시각화"
   ]
  },
  {
   "cell_type": "code",
   "execution_count": null,
   "id": "1b49d13a",
   "metadata": {},
   "outputs": [],
   "source": [
    "from gensim.models import KeyedVectors\n",
    "model.wv.save_word2vec_format('word2vec') # 모델 저장\n",
    "loaded_model = KeyedVectors.load_word2vec_format(\"word2vec\") # 모델 로드"
   ]
  },
  {
   "cell_type": "code",
   "execution_count": null,
   "id": "2e40c670",
   "metadata": {},
   "outputs": [],
   "source": [
    "!python -m gensim.scripts.word2vec2tensor --input word2vec --output word2vec"
   ]
  }
 ],
 "metadata": {
  "kernelspec": {
   "display_name": "Python 3",
   "language": "python",
   "name": "python3"
  },
  "language_info": {
   "codemirror_mode": {
    "name": "ipython",
    "version": 3
   },
   "file_extension": ".py",
   "mimetype": "text/x-python",
   "name": "python",
   "nbconvert_exporter": "python",
   "pygments_lexer": "ipython3",
   "version": "3.8.8"
  }
 },
 "nbformat": 4,
 "nbformat_minor": 5
}
