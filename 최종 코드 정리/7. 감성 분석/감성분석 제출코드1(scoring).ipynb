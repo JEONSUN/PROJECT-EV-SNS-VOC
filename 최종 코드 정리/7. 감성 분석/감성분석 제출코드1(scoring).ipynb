{
 "cells": [
  {
   "cell_type": "markdown",
   "metadata": {
    "id": "n05DdOMaFagO"
   },
   "source": [
    "# 감성분석"
   ]
  },
  {
   "cell_type": "markdown",
   "metadata": {
    "id": "CvKAbMQEFgb-"
   },
   "source": [
    "## 1.구글 드라이브 마운트"
   ]
  },
  {
   "cell_type": "code",
   "execution_count": null,
   "metadata": {
    "colab": {
     "base_uri": "https://localhost:8080/"
    },
    "executionInfo": {
     "elapsed": 422,
     "status": "ok",
     "timestamp": 1629389165723,
     "user": {
      "displayName": "김수린",
      "photoUrl": "",
      "userId": "07414750594198422591"
     },
     "user_tz": -540
    },
    "id": "uGs6ugXk_dGA",
    "outputId": "8ca5d28a-7575-4fce-e52a-059a33241242"
   },
   "outputs": [
    {
     "name": "stdout",
     "output_type": "stream",
     "text": [
      "Drive already mounted at /gdrive; to attempt to forcibly remount, call drive.mount(\"/gdrive\", force_remount=True).\n"
     ]
    }
   ],
   "source": [
    "from google.colab import drive\n",
    "drive.mount('/gdrive')"
   ]
  },
  {
   "cell_type": "markdown",
   "metadata": {
    "id": "TrwA9SqIFjBT"
   },
   "source": [
    "## 2.라이브러리"
   ]
  },
  {
   "cell_type": "code",
   "execution_count": null,
   "metadata": {
    "id": "lne1KMCKFmZm"
   },
   "outputs": [],
   "source": [
    "import pandas as pd\n",
    "from tqdm.notebook import tqdm\n",
    "import numpy as np"
   ]
  },
  {
   "cell_type": "markdown",
   "metadata": {
    "id": "126fi4zKFmn1"
   },
   "source": [
    "## 3.데이터셋 불러오기"
   ]
  },
  {
   "cell_type": "code",
   "execution_count": null,
   "metadata": {
    "colab": {
     "base_uri": "https://localhost:8080/",
     "height": 417
    },
    "executionInfo": {
     "elapsed": 21,
     "status": "ok",
     "timestamp": 1629381164736,
     "user": {
      "displayName": "김수린",
      "photoUrl": "",
      "userId": "07414750594198422591"
     },
     "user_tz": -540
    },
    "id": "jKKQAsGHWoq6",
    "outputId": "e4d113d9-32dc-425c-b766-9030bddc5c46"
   },
   "outputs": [],
   "source": [
    "rawdata = pd.read_excel('/gdrive/MyDrive/데이트할바엔 데이터/최종데이터(사용자이름,날짜,내용)/최종 합친 데이터_mecab까지.xlsx')"
   ]
  },
  {
   "cell_type": "markdown",
   "metadata": {},
   "source": [
    "## 4. 문장토큰화"
   ]
  },
  {
   "cell_type": "code",
   "execution_count": null,
   "metadata": {},
   "outputs": [],
   "source": [
    "youtube = rawdata[rawdata.site == '유튜브']\n",
    "youtube.dropna(axis=0, subset=['comment'], inplace=True)"
   ]
  },
  {
   "cell_type": "code",
   "execution_count": null,
   "metadata": {},
   "outputs": [],
   "source": [
    "import kss\n",
    "from tqdm import tqdm\n",
    "\n",
    "new_row = []\n",
    "\n",
    "for i, row in tqdm(youtube.iterrows()):\n",
    "    for sent in kss.split_sentences(row['comment']):\n",
    "        if sent:\n",
    "            new_row.append([row['name'], sent, row['date'], row['Year'], row['Month']])"
   ]
  },
  {
   "cell_type": "markdown",
   "metadata": {},
   "source": [
    "#### 임시저장"
   ]
  },
  {
   "cell_type": "code",
   "execution_count": null,
   "metadata": {},
   "outputs": [],
   "source": [
    "data = pd.DataFrame(new_row, columns=['name', 'sent', 'date', 'Year', 'Month'])\n",
    "data.to_excel('/gdrive/MyDrive/유튜브문장추출.xlsx', index=None)"
   ]
  },
  {
   "cell_type": "markdown",
   "metadata": {
    "id": "6S2CNBJTGnrT"
   },
   "source": [
    "## Pororo\n",
    "\n",
    "##### 참고 링크 : https://kakaobrain.github.io/pororo/index.html"
   ]
  },
  {
   "cell_type": "code",
   "execution_count": null,
   "metadata": {
    "colab": {
     "base_uri": "https://localhost:8080/"
    },
    "executionInfo": {
     "elapsed": 4798,
     "status": "ok",
     "timestamp": 1629389186585,
     "user": {
      "displayName": "김수린",
      "photoUrl": "",
      "userId": "07414750594198422591"
     },
     "user_tz": -540
    },
    "id": "mU5YRsPnE1-0",
    "outputId": "518487ab-3e6f-486c-eb08-9b2be81513cc"
   },
   "outputs": [
    {
     "name": "stdout",
     "output_type": "stream",
     "text": [
      "Requirement already satisfied: pororo in /usr/local/lib/python3.7/dist-packages (0.4.2)\n",
      "Requirement already satisfied: wget in /usr/local/lib/python3.7/dist-packages (from pororo) (3.2)\n",
      "Requirement already satisfied: g2p-en in /usr/local/lib/python3.7/dist-packages (from pororo) (2.1.0)\n",
      "Requirement already satisfied: pillow>=4.1.1 in /usr/local/lib/python3.7/dist-packages (from pororo) (7.1.2)\n",
      "Requirement already satisfied: transformers>=4.0.0 in /usr/local/lib/python3.7/dist-packages (from pororo) (4.9.2)\n",
      "Requirement already satisfied: fairseq>=0.10.2 in /usr/local/lib/python3.7/dist-packages (from pororo) (0.10.2)\n",
      "Requirement already satisfied: torch==1.6.0 in /usr/local/lib/python3.7/dist-packages (from pororo) (1.6.0)\n",
      "Requirement already satisfied: marisa-trie in /usr/local/lib/python3.7/dist-packages (from pororo) (0.7.7)\n",
      "Requirement already satisfied: kss in /usr/local/lib/python3.7/dist-packages (from pororo) (3.1.0.4)\n",
      "Requirement already satisfied: lxml in /usr/local/lib/python3.7/dist-packages (from pororo) (4.2.6)\n",
      "Requirement already satisfied: nltk>=3.5 in /usr/local/lib/python3.7/dist-packages (from pororo) (3.6.2)\n",
      "Requirement already satisfied: whoosh in /usr/local/lib/python3.7/dist-packages (from pororo) (2.7.4)\n",
      "Requirement already satisfied: word2word in /usr/local/lib/python3.7/dist-packages (from pororo) (1.0.0)\n",
      "Requirement already satisfied: joblib in /usr/local/lib/python3.7/dist-packages (from pororo) (1.0.1)\n",
      "Requirement already satisfied: sentence-transformers>=0.4.1.2 in /usr/local/lib/python3.7/dist-packages (from pororo) (2.0.0)\n",
      "Requirement already satisfied: torchvision==0.7.0 in /usr/local/lib/python3.7/dist-packages (from pororo) (0.7.0)\n",
      "Requirement already satisfied: future in /usr/local/lib/python3.7/dist-packages (from torch==1.6.0->pororo) (0.16.0)\n",
      "Requirement already satisfied: numpy in /usr/local/lib/python3.7/dist-packages (from torch==1.6.0->pororo) (1.19.5)\n",
      "Requirement already satisfied: tqdm in /usr/local/lib/python3.7/dist-packages (from fairseq>=0.10.2->pororo) (4.62.0)\n",
      "Requirement already satisfied: cffi in /usr/local/lib/python3.7/dist-packages (from fairseq>=0.10.2->pororo) (1.14.6)\n",
      "Requirement already satisfied: cython in /usr/local/lib/python3.7/dist-packages (from fairseq>=0.10.2->pororo) (0.29.24)\n",
      "Requirement already satisfied: hydra-core in /usr/local/lib/python3.7/dist-packages (from fairseq>=0.10.2->pororo) (1.1.0)\n",
      "Requirement already satisfied: dataclasses in /usr/local/lib/python3.7/dist-packages (from fairseq>=0.10.2->pororo) (0.6)\n",
      "Requirement already satisfied: regex in /usr/local/lib/python3.7/dist-packages (from fairseq>=0.10.2->pororo) (2019.12.20)\n",
      "Requirement already satisfied: sacrebleu>=1.4.12 in /usr/local/lib/python3.7/dist-packages (from fairseq>=0.10.2->pororo) (2.0.0)\n",
      "Requirement already satisfied: click in /usr/local/lib/python3.7/dist-packages (from nltk>=3.5->pororo) (7.1.2)\n",
      "Requirement already satisfied: colorama in /usr/local/lib/python3.7/dist-packages (from sacrebleu>=1.4.12->fairseq>=0.10.2->pororo) (0.4.4)\n",
      "Requirement already satisfied: tabulate>=0.8.9 in /usr/local/lib/python3.7/dist-packages (from sacrebleu>=1.4.12->fairseq>=0.10.2->pororo) (0.8.9)\n",
      "Requirement already satisfied: portalocker in /usr/local/lib/python3.7/dist-packages (from sacrebleu>=1.4.12->fairseq>=0.10.2->pororo) (2.3.0)\n",
      "Requirement already satisfied: sentencepiece in /usr/local/lib/python3.7/dist-packages (from sentence-transformers>=0.4.1.2->pororo) (0.1.96)\n",
      "Requirement already satisfied: scikit-learn in /usr/local/lib/python3.7/dist-packages (from sentence-transformers>=0.4.1.2->pororo) (0.22.2.post1)\n",
      "Requirement already satisfied: scipy in /usr/local/lib/python3.7/dist-packages (from sentence-transformers>=0.4.1.2->pororo) (1.4.1)\n",
      "Requirement already satisfied: huggingface-hub in /usr/local/lib/python3.7/dist-packages (from sentence-transformers>=0.4.1.2->pororo) (0.0.12)\n",
      "Requirement already satisfied: pyyaml>=5.1 in /usr/local/lib/python3.7/dist-packages (from transformers>=4.0.0->pororo) (5.4.1)\n",
      "Requirement already satisfied: requests in /usr/local/lib/python3.7/dist-packages (from transformers>=4.0.0->pororo) (2.23.0)\n",
      "Requirement already satisfied: packaging in /usr/local/lib/python3.7/dist-packages (from transformers>=4.0.0->pororo) (21.0)\n",
      "Requirement already satisfied: tokenizers<0.11,>=0.10.1 in /usr/local/lib/python3.7/dist-packages (from transformers>=4.0.0->pororo) (0.10.3)\n",
      "Requirement already satisfied: importlib-metadata in /usr/local/lib/python3.7/dist-packages (from transformers>=4.0.0->pororo) (4.6.4)\n",
      "Requirement already satisfied: filelock in /usr/local/lib/python3.7/dist-packages (from transformers>=4.0.0->pororo) (3.0.12)\n",
      "Requirement already satisfied: sacremoses in /usr/local/lib/python3.7/dist-packages (from transformers>=4.0.0->pororo) (0.0.45)\n",
      "Requirement already satisfied: typing-extensions in /usr/local/lib/python3.7/dist-packages (from huggingface-hub->sentence-transformers>=0.4.1.2->pororo) (3.7.4.3)\n",
      "Requirement already satisfied: pyparsing>=2.0.2 in /usr/local/lib/python3.7/dist-packages (from packaging->transformers>=4.0.0->pororo) (2.4.7)\n",
      "Requirement already satisfied: pycparser in /usr/local/lib/python3.7/dist-packages (from cffi->fairseq>=0.10.2->pororo) (2.20)\n",
      "Requirement already satisfied: inflect>=0.3.1 in /usr/local/lib/python3.7/dist-packages (from g2p-en->pororo) (2.1.0)\n",
      "Requirement already satisfied: distance>=0.1.3 in /usr/local/lib/python3.7/dist-packages (from g2p-en->pororo) (0.1.3)\n",
      "Requirement already satisfied: importlib-resources in /usr/local/lib/python3.7/dist-packages (from hydra-core->fairseq>=0.10.2->pororo) (5.2.2)\n",
      "Requirement already satisfied: antlr4-python3-runtime==4.8 in /usr/local/lib/python3.7/dist-packages (from hydra-core->fairseq>=0.10.2->pororo) (4.8)\n",
      "Requirement already satisfied: omegaconf==2.1.* in /usr/local/lib/python3.7/dist-packages (from hydra-core->fairseq>=0.10.2->pororo) (2.1.0)\n",
      "Requirement already satisfied: zipp>=0.5 in /usr/local/lib/python3.7/dist-packages (from importlib-metadata->transformers>=4.0.0->pororo) (3.5.0)\n",
      "Requirement already satisfied: emoji in /usr/local/lib/python3.7/dist-packages (from kss->pororo) (1.4.2)\n",
      "Requirement already satisfied: setuptools in /usr/local/lib/python3.7/dist-packages (from marisa-trie->pororo) (57.4.0)\n",
      "Requirement already satisfied: certifi>=2017.4.17 in /usr/local/lib/python3.7/dist-packages (from requests->transformers>=4.0.0->pororo) (2021.5.30)\n",
      "Requirement already satisfied: urllib3!=1.25.0,!=1.25.1,<1.26,>=1.21.1 in /usr/local/lib/python3.7/dist-packages (from requests->transformers>=4.0.0->pororo) (1.24.3)\n",
      "Requirement already satisfied: chardet<4,>=3.0.2 in /usr/local/lib/python3.7/dist-packages (from requests->transformers>=4.0.0->pororo) (3.0.4)\n",
      "Requirement already satisfied: idna<3,>=2.5 in /usr/local/lib/python3.7/dist-packages (from requests->transformers>=4.0.0->pororo) (2.10)\n",
      "Requirement already satisfied: six in /usr/local/lib/python3.7/dist-packages (from sacremoses->transformers>=4.0.0->pororo) (1.15.0)\n"
     ]
    }
   ],
   "source": [
    "!pip install pororo"
   ]
  },
  {
   "cell_type": "code",
   "execution_count": null,
   "metadata": {
    "id": "SBpmQ30yE2A6"
   },
   "outputs": [],
   "source": [
    "from pororo import Pororo\n",
    "tqdm.pandas()\n",
    "\n",
    "review = Pororo(task=\"review\", lang=\"ko\")"
   ]
  },
  {
   "cell_type": "markdown",
   "metadata": {},
   "source": [
    "### 50,000개를 기준으로 나누어 감성분석 진행"
   ]
  },
  {
   "cell_type": "code",
   "execution_count": null,
   "metadata": {
    "id": "GZsHwGeWBdYM"
   },
   "outputs": [],
   "source": [
    "# ~ 50,000개\n",
    "sample1 = data['sent'].iloc[:50000]\n",
    "sample1 = pd.DataFrame(sample1)\n",
    "sample1"
   ]
  },
  {
   "cell_type": "code",
   "execution_count": null,
   "metadata": {
    "colab": {
     "base_uri": "https://localhost:8080/",
     "height": 449,
     "referenced_widgets": [
      "7fe555a064894f249ea928173510df1c",
      "6067567d302d4722823dc6cc72040cfe",
      "7291540980434c428239b4401f9c0c04",
      "9006cc06959e4e65b0071b05c0b2e21b",
      "8d332760ecb44f959043986a59eb4d70",
      "efe72ee70f4243d3b3249bfebc827a5a",
      "eb5191099e0e4f15ae8b1a2c1956767f",
      "ce2f5c7f16e648b69e5fe4a1f04b04a1",
      "21270e5456764a09b47a2f54e438947f",
      "a712c51697fa44848951526d55e2a179",
      "277762d53d7b49cb95c40ead543681fa"
     ]
    },
    "executionInfo": {
     "elapsed": 6162757,
     "status": "ok",
     "timestamp": 1629387541125,
     "user": {
      "displayName": "김수린",
      "photoUrl": "",
      "userId": "07414750594198422591"
     },
     "user_tz": -540
    },
    "id": "MPwoPalkKxZv",
    "outputId": "539a973b-41b4-44a1-afbb-b3c259fd3a68"
   },
   "outputs": [
    {
     "data": {
      "application/vnd.jupyter.widget-view+json": {
       "model_id": "7fe555a064894f249ea928173510df1c",
       "version_major": 2,
       "version_minor": 0
      },
      "text/plain": [
       "  0%|          | 0/50000 [00:00<?, ?it/s]"
      ]
     },
     "metadata": {},
     "output_type": "display_data"
    },
    {
     "data": {
      "text/html": [
       "<div>\n",
       "<style scoped>\n",
       "    .dataframe tbody tr th:only-of-type {\n",
       "        vertical-align: middle;\n",
       "    }\n",
       "\n",
       "    .dataframe tbody tr th {\n",
       "        vertical-align: top;\n",
       "    }\n",
       "\n",
       "    .dataframe thead th {\n",
       "        text-align: right;\n",
       "    }\n",
       "</style>\n",
       "<table border=\"1\" class=\"dataframe\">\n",
       "  <thead>\n",
       "    <tr style=\"text-align: right;\">\n",
       "      <th></th>\n",
       "      <th>sent</th>\n",
       "      <th>score</th>\n",
       "    </tr>\n",
       "  </thead>\n",
       "  <tbody>\n",
       "    <tr>\n",
       "      <th>0</th>\n",
       "      <td>제발 미래형 디자인 안 했으면 좋겠다</td>\n",
       "      <td>2.21</td>\n",
       "    </tr>\n",
       "    <tr>\n",
       "      <th>1</th>\n",
       "      <td>엑센트 크기 전기차도 만들었으면 근데 국산이고 장난감 같아서 재밌겠다</td>\n",
       "      <td>3.48</td>\n",
       "    </tr>\n",
       "    <tr>\n",
       "      <th>2</th>\n",
       "      <td>34년 타고 배터리 조루 되면 배터리 망가지며 그냥 연비 좋은 차 타는 게</td>\n",
       "      <td>2.13</td>\n",
       "    </tr>\n",
       "    <tr>\n",
       "      <th>3</th>\n",
       "      <td>중국 애들은 저걸 왜 계발함 개발하면 중국 애들이 가만히 충전하고 있는 태양열을 놔두겠다</td>\n",
       "      <td>1.58</td>\n",
       "    </tr>\n",
       "    <tr>\n",
       "      <th>4</th>\n",
       "      <td>저렴한 가정용 충전기가 나와야 함</td>\n",
       "      <td>2.62</td>\n",
       "    </tr>\n",
       "    <tr>\n",
       "      <th>...</th>\n",
       "      <td>...</td>\n",
       "      <td>...</td>\n",
       "    </tr>\n",
       "    <tr>\n",
       "      <th>49995</th>\n",
       "      <td>충전하다가 급하게 회사에서 복귀 명령이 온다거나 하면 중간에 충전 끌 수 있는 건가요</td>\n",
       "      <td>3.91</td>\n",
       "    </tr>\n",
       "    <tr>\n",
       "      <th>49996</th>\n",
       "      <td>4륜 구동 비탈길도 200킬로 짐 싣고 올라간다니 반갑고 구매하는데도 정부 보조금 ...</td>\n",
       "      <td>4.70</td>\n",
       "    </tr>\n",
       "    <tr>\n",
       "      <th>49997</th>\n",
       "      <td>순수 우리 제품 전기 충전해서 사용되고 잘 만들었으리라 믿음 갑니다</td>\n",
       "      <td>4.62</td>\n",
       "    </tr>\n",
       "    <tr>\n",
       "      <th>49998</th>\n",
       "      <td>주소랑 연락처도 올려주세요</td>\n",
       "      <td>2.54</td>\n",
       "    </tr>\n",
       "    <tr>\n",
       "      <th>49999</th>\n",
       "      <td>출발 58 30KM 주행 후 52가 남았네요</td>\n",
       "      <td>4.08</td>\n",
       "    </tr>\n",
       "  </tbody>\n",
       "</table>\n",
       "<p>50000 rows × 2 columns</p>\n",
       "</div>"
      ],
      "text/plain": [
       "                                                    sent  score\n",
       "0                                   제발 미래형 디자인 안 했으면 좋겠다   2.21\n",
       "1                 엑센트 크기 전기차도 만들었으면 근데 국산이고 장난감 같아서 재밌겠다   3.48\n",
       "2              34년 타고 배터리 조루 되면 배터리 망가지며 그냥 연비 좋은 차 타는 게   2.13\n",
       "3      중국 애들은 저걸 왜 계발함 개발하면 중국 애들이 가만히 충전하고 있는 태양열을 놔두겠다   1.58\n",
       "4                                     저렴한 가정용 충전기가 나와야 함   2.62\n",
       "...                                                  ...    ...\n",
       "49995    충전하다가 급하게 회사에서 복귀 명령이 온다거나 하면 중간에 충전 끌 수 있는 건가요   3.91\n",
       "49996  4륜 구동 비탈길도 200킬로 짐 싣고 올라간다니 반갑고 구매하는데도 정부 보조금 ...   4.70\n",
       "49997              순수 우리 제품 전기 충전해서 사용되고 잘 만들었으리라 믿음 갑니다   4.62\n",
       "49998                                     주소랑 연락처도 올려주세요   2.54\n",
       "49999                           출발 58 30KM 주행 후 52가 남았네요   4.08\n",
       "\n",
       "[50000 rows x 2 columns]"
      ]
     },
     "execution_count": 17,
     "metadata": {},
     "output_type": "execute_result"
    }
   ],
   "source": [
    "sample1[\"score\"] = sample1['sent'].progress_apply(lambda x : review(x) if len(x) < 512 else np.NaN)\n",
    "sample1"
   ]
  },
  {
   "cell_type": "code",
   "execution_count": null,
   "metadata": {
    "id": "PONvzcILtpCZ"
   },
   "outputs": [],
   "source": [
    "sample1.to_excel('/gdrive/MyDrive/유튜브50000스코어.xlsx', index=None)"
   ]
  },
  {
   "cell_type": "code",
   "execution_count": null,
   "metadata": {
    "colab": {
     "base_uri": "https://localhost:8080/",
     "height": 449,
     "referenced_widgets": [
      "f8f2c1599eab42b6970902e603215dc6",
      "2f25a2e1c770456faa7ee69b3af7129e",
      "0431f6d2a7f54c87bc49cd3965ae1da4",
      "49e66b404e8c4e4eaa67d4393f7142d5",
      "fcc91ad652e7412c9d827c22f0b3daca",
      "e3cac10797834351b0b2e1aa354aa0f2",
      "d0e4a5af62b34be09b56350d99b38134",
      "14c2318755044696967dde2f0ca6ac67",
      "a1722fa37ba74eddb4c7be2335badbc4",
      "5271a4cdd20e4db094ad585ba6fdb609",
      "404440f640bf43f590e323297f041e3f"
     ]
    },
    "executionInfo": {
     "elapsed": 18039771,
     "status": "ok",
     "timestamp": 1629407231738,
     "user": {
      "displayName": "김수린",
      "photoUrl": "",
      "userId": "07414750594198422591"
     },
     "user_tz": -540
    },
    "id": "KjL90WnAFX_k",
    "outputId": "fb05b51b-7275-49ca-b4d1-4d8841d21d59"
   },
   "outputs": [
    {
     "data": {
      "application/vnd.jupyter.widget-view+json": {
       "model_id": "f8f2c1599eab42b6970902e603215dc6",
       "version_major": 2,
       "version_minor": 0
      },
      "text/plain": [
       "  0%|          | 0/138989 [00:00<?, ?it/s]"
      ]
     },
     "metadata": {},
     "output_type": "display_data"
    },
    {
     "data": {
      "text/html": [
       "<div>\n",
       "<style scoped>\n",
       "    .dataframe tbody tr th:only-of-type {\n",
       "        vertical-align: middle;\n",
       "    }\n",
       "\n",
       "    .dataframe tbody tr th {\n",
       "        vertical-align: top;\n",
       "    }\n",
       "\n",
       "    .dataframe thead th {\n",
       "        text-align: right;\n",
       "    }\n",
       "</style>\n",
       "<table border=\"1\" class=\"dataframe\">\n",
       "  <thead>\n",
       "    <tr style=\"text-align: right;\">\n",
       "      <th></th>\n",
       "      <th>sent</th>\n",
       "      <th>score</th>\n",
       "    </tr>\n",
       "  </thead>\n",
       "  <tbody>\n",
       "    <tr>\n",
       "      <th>50000</th>\n",
       "      <td>6에 30KM 주행이니 전기차 안전마진인 80로 390KM 100전부 쓴다면 500...</td>\n",
       "      <td>4.16</td>\n",
       "    </tr>\n",
       "    <tr>\n",
       "      <th>50001</th>\n",
       "      <td>근데에 주행거리 235KM인 것을 보니 거기다 회생제동도 1단계네요</td>\n",
       "      <td>1.96</td>\n",
       "    </tr>\n",
       "    <tr>\n",
       "      <th>50002</th>\n",
       "      <td>시승 중간에 어디 세우셔서 V2L 실험을 하신 걸로 보이는데 고 부하 장치들을 2K...</td>\n",
       "      <td>1.88</td>\n",
       "    </tr>\n",
       "    <tr>\n",
       "      <th>50003</th>\n",
       "      <td>비추 폭탄 먹을듯한데 테슬라 모델 3랑 을 비교에서 꽤 재미있는 결과가 나올지도 모...</td>\n",
       "      <td>1.35</td>\n",
       "    </tr>\n",
       "    <tr>\n",
       "      <th>50004</th>\n",
       "      <td>주행거리랑 자율 주행만 빼고 테슬라보다 좋은 차</td>\n",
       "      <td>3.78</td>\n",
       "    </tr>\n",
       "    <tr>\n",
       "      <th>...</th>\n",
       "      <td>...</td>\n",
       "      <td>...</td>\n",
       "    </tr>\n",
       "    <tr>\n",
       "      <th>188984</th>\n",
       "      <td>프리우스 신형이 나와봐야 정확한 연비 승자가 나올 듯합니다</td>\n",
       "      <td>3.96</td>\n",
       "    </tr>\n",
       "    <tr>\n",
       "      <th>188985</th>\n",
       "      <td>현재는 아직 신형 프리우스가 국내에 출시되지 않았기 때문에 데이터 상으로는 막 나온...</td>\n",
       "      <td>3.92</td>\n",
       "    </tr>\n",
       "    <tr>\n",
       "      <th>188986</th>\n",
       "      <td>정확한 결과는 신형 프리우스가 국내에 나오고 제대로 비교해서 측정하는 거라고 생각은...</td>\n",
       "      <td>4.09</td>\n",
       "    </tr>\n",
       "    <tr>\n",
       "      <th>188987</th>\n",
       "      <td>어찌 됐든 현대에서 좋은 차가 나온 건 사실인듯합니다</td>\n",
       "      <td>4.76</td>\n",
       "    </tr>\n",
       "    <tr>\n",
       "      <th>188988</th>\n",
       "      <td>벤츠 차가 저속에는 조금 둔해도 고속에서는 독일차 그 느낌이 온다던데 한국차는 시내...</td>\n",
       "      <td>4.51</td>\n",
       "    </tr>\n",
       "  </tbody>\n",
       "</table>\n",
       "<p>138989 rows × 2 columns</p>\n",
       "</div>"
      ],
      "text/plain": [
       "                                                     sent  score\n",
       "50000   6에 30KM 주행이니 전기차 안전마진인 80로 390KM 100전부 쓴다면 500...   4.16\n",
       "50001               근데에 주행거리 235KM인 것을 보니 거기다 회생제동도 1단계네요   1.96\n",
       "50002   시승 중간에 어디 세우셔서 V2L 실험을 하신 걸로 보이는데 고 부하 장치들을 2K...   1.88\n",
       "50003   비추 폭탄 먹을듯한데 테슬라 모델 3랑 을 비교에서 꽤 재미있는 결과가 나올지도 모...   1.35\n",
       "50004                          주행거리랑 자율 주행만 빼고 테슬라보다 좋은 차   3.78\n",
       "...                                                   ...    ...\n",
       "188984                   프리우스 신형이 나와봐야 정확한 연비 승자가 나올 듯합니다   3.96\n",
       "188985  현재는 아직 신형 프리우스가 국내에 출시되지 않았기 때문에 데이터 상으로는 막 나온...   3.92\n",
       "188986  정확한 결과는 신형 프리우스가 국내에 나오고 제대로 비교해서 측정하는 거라고 생각은...   4.09\n",
       "188987                      어찌 됐든 현대에서 좋은 차가 나온 건 사실인듯합니다   4.76\n",
       "188988  벤츠 차가 저속에는 조금 둔해도 고속에서는 독일차 그 느낌이 온다던데 한국차는 시내...   4.51\n",
       "\n",
       "[138989 rows x 2 columns]"
      ]
     },
     "execution_count": 16,
     "metadata": {},
     "output_type": "execute_result"
    }
   ],
   "source": [
    "# 50000~\n",
    "sample2 = data['sent'].iloc[50000:]\n",
    "sample2 = pd.DataFrame(sample2)\n",
    "\n",
    "sample2[\"score\"] = sample2['sent'].progress_apply(lambda x : review(x) if len(x) < 512 else np.NaN)\n",
    "sample2"
   ]
  },
  {
   "cell_type": "code",
   "execution_count": null,
   "metadata": {
    "id": "GVd07Xq3HiFw"
   },
   "outputs": [],
   "source": [
    "sample2.to_excel('/gdrive/MyDrive/유튜브50000이후스코어.xlsx', index=None)"
   ]
  },
  {
   "cell_type": "code",
   "execution_count": null,
   "metadata": {
    "id": "59O-G6KnbU4-"
   },
   "outputs": [],
   "source": []
  }
 ],
 "metadata": {
  "colab": {
   "collapsed_sections": [],
   "name": "PLM 감성분석.ipynb",
   "provenance": []
  },
  "kernelspec": {
   "display_name": "Python 3 (ipykernel)",
   "language": "python",
   "name": "python3"
  },
  "language_info": {
   "codemirror_mode": {
    "name": "ipython",
    "version": 3
   },
   "file_extension": ".py",
   "mimetype": "text/x-python",
   "name": "python",
   "nbconvert_exporter": "python",
   "pygments_lexer": "ipython3",
   "version": "3.8.8"
  },
  "widgets": {
   "application/vnd.jupyter.widget-state+json": {
    "0431f6d2a7f54c87bc49cd3965ae1da4": {
     "model_module": "@jupyter-widgets/controls",
     "model_module_version": "1.5.0",
     "model_name": "HTMLModel",
     "state": {
      "_dom_classes": [],
      "_model_module": "@jupyter-widgets/controls",
      "_model_module_version": "1.5.0",
      "_model_name": "HTMLModel",
      "_view_count": null,
      "_view_module": "@jupyter-widgets/controls",
      "_view_module_version": "1.5.0",
      "_view_name": "HTMLView",
      "description": "",
      "description_tooltip": null,
      "layout": "IPY_MODEL_d0e4a5af62b34be09b56350d99b38134",
      "placeholder": "​",
      "style": "IPY_MODEL_e3cac10797834351b0b2e1aa354aa0f2",
      "value": "100%"
     }
    },
    "14c2318755044696967dde2f0ca6ac67": {
     "model_module": "@jupyter-widgets/controls",
     "model_module_version": "1.5.0",
     "model_name": "ProgressStyleModel",
     "state": {
      "_model_module": "@jupyter-widgets/controls",
      "_model_module_version": "1.5.0",
      "_model_name": "ProgressStyleModel",
      "_view_count": null,
      "_view_module": "@jupyter-widgets/base",
      "_view_module_version": "1.2.0",
      "_view_name": "StyleView",
      "bar_color": null,
      "description_width": ""
     }
    },
    "21270e5456764a09b47a2f54e438947f": {
     "model_module": "@jupyter-widgets/base",
     "model_module_version": "1.2.0",
     "model_name": "LayoutModel",
     "state": {
      "_model_module": "@jupyter-widgets/base",
      "_model_module_version": "1.2.0",
      "_model_name": "LayoutModel",
      "_view_count": null,
      "_view_module": "@jupyter-widgets/base",
      "_view_module_version": "1.2.0",
      "_view_name": "LayoutView",
      "align_content": null,
      "align_items": null,
      "align_self": null,
      "border": null,
      "bottom": null,
      "display": null,
      "flex": null,
      "flex_flow": null,
      "grid_area": null,
      "grid_auto_columns": null,
      "grid_auto_flow": null,
      "grid_auto_rows": null,
      "grid_column": null,
      "grid_gap": null,
      "grid_row": null,
      "grid_template_areas": null,
      "grid_template_columns": null,
      "grid_template_rows": null,
      "height": null,
      "justify_content": null,
      "justify_items": null,
      "left": null,
      "margin": null,
      "max_height": null,
      "max_width": null,
      "min_height": null,
      "min_width": null,
      "object_fit": null,
      "object_position": null,
      "order": null,
      "overflow": null,
      "overflow_x": null,
      "overflow_y": null,
      "padding": null,
      "right": null,
      "top": null,
      "visibility": null,
      "width": null
     }
    },
    "277762d53d7b49cb95c40ead543681fa": {
     "model_module": "@jupyter-widgets/base",
     "model_module_version": "1.2.0",
     "model_name": "LayoutModel",
     "state": {
      "_model_module": "@jupyter-widgets/base",
      "_model_module_version": "1.2.0",
      "_model_name": "LayoutModel",
      "_view_count": null,
      "_view_module": "@jupyter-widgets/base",
      "_view_module_version": "1.2.0",
      "_view_name": "LayoutView",
      "align_content": null,
      "align_items": null,
      "align_self": null,
      "border": null,
      "bottom": null,
      "display": null,
      "flex": null,
      "flex_flow": null,
      "grid_area": null,
      "grid_auto_columns": null,
      "grid_auto_flow": null,
      "grid_auto_rows": null,
      "grid_column": null,
      "grid_gap": null,
      "grid_row": null,
      "grid_template_areas": null,
      "grid_template_columns": null,
      "grid_template_rows": null,
      "height": null,
      "justify_content": null,
      "justify_items": null,
      "left": null,
      "margin": null,
      "max_height": null,
      "max_width": null,
      "min_height": null,
      "min_width": null,
      "object_fit": null,
      "object_position": null,
      "order": null,
      "overflow": null,
      "overflow_x": null,
      "overflow_y": null,
      "padding": null,
      "right": null,
      "top": null,
      "visibility": null,
      "width": null
     }
    },
    "2f25a2e1c770456faa7ee69b3af7129e": {
     "model_module": "@jupyter-widgets/base",
     "model_module_version": "1.2.0",
     "model_name": "LayoutModel",
     "state": {
      "_model_module": "@jupyter-widgets/base",
      "_model_module_version": "1.2.0",
      "_model_name": "LayoutModel",
      "_view_count": null,
      "_view_module": "@jupyter-widgets/base",
      "_view_module_version": "1.2.0",
      "_view_name": "LayoutView",
      "align_content": null,
      "align_items": null,
      "align_self": null,
      "border": null,
      "bottom": null,
      "display": null,
      "flex": null,
      "flex_flow": null,
      "grid_area": null,
      "grid_auto_columns": null,
      "grid_auto_flow": null,
      "grid_auto_rows": null,
      "grid_column": null,
      "grid_gap": null,
      "grid_row": null,
      "grid_template_areas": null,
      "grid_template_columns": null,
      "grid_template_rows": null,
      "height": null,
      "justify_content": null,
      "justify_items": null,
      "left": null,
      "margin": null,
      "max_height": null,
      "max_width": null,
      "min_height": null,
      "min_width": null,
      "object_fit": null,
      "object_position": null,
      "order": null,
      "overflow": null,
      "overflow_x": null,
      "overflow_y": null,
      "padding": null,
      "right": null,
      "top": null,
      "visibility": null,
      "width": null
     }
    },
    "404440f640bf43f590e323297f041e3f": {
     "model_module": "@jupyter-widgets/base",
     "model_module_version": "1.2.0",
     "model_name": "LayoutModel",
     "state": {
      "_model_module": "@jupyter-widgets/base",
      "_model_module_version": "1.2.0",
      "_model_name": "LayoutModel",
      "_view_count": null,
      "_view_module": "@jupyter-widgets/base",
      "_view_module_version": "1.2.0",
      "_view_name": "LayoutView",
      "align_content": null,
      "align_items": null,
      "align_self": null,
      "border": null,
      "bottom": null,
      "display": null,
      "flex": null,
      "flex_flow": null,
      "grid_area": null,
      "grid_auto_columns": null,
      "grid_auto_flow": null,
      "grid_auto_rows": null,
      "grid_column": null,
      "grid_gap": null,
      "grid_row": null,
      "grid_template_areas": null,
      "grid_template_columns": null,
      "grid_template_rows": null,
      "height": null,
      "justify_content": null,
      "justify_items": null,
      "left": null,
      "margin": null,
      "max_height": null,
      "max_width": null,
      "min_height": null,
      "min_width": null,
      "object_fit": null,
      "object_position": null,
      "order": null,
      "overflow": null,
      "overflow_x": null,
      "overflow_y": null,
      "padding": null,
      "right": null,
      "top": null,
      "visibility": null,
      "width": null
     }
    },
    "49e66b404e8c4e4eaa67d4393f7142d5": {
     "model_module": "@jupyter-widgets/controls",
     "model_module_version": "1.5.0",
     "model_name": "FloatProgressModel",
     "state": {
      "_dom_classes": [],
      "_model_module": "@jupyter-widgets/controls",
      "_model_module_version": "1.5.0",
      "_model_name": "FloatProgressModel",
      "_view_count": null,
      "_view_module": "@jupyter-widgets/controls",
      "_view_module_version": "1.5.0",
      "_view_name": "ProgressView",
      "bar_style": "success",
      "description": "",
      "description_tooltip": null,
      "layout": "IPY_MODEL_a1722fa37ba74eddb4c7be2335badbc4",
      "max": 138989,
      "min": 0,
      "orientation": "horizontal",
      "style": "IPY_MODEL_14c2318755044696967dde2f0ca6ac67",
      "value": 138989
     }
    },
    "5271a4cdd20e4db094ad585ba6fdb609": {
     "model_module": "@jupyter-widgets/controls",
     "model_module_version": "1.5.0",
     "model_name": "DescriptionStyleModel",
     "state": {
      "_model_module": "@jupyter-widgets/controls",
      "_model_module_version": "1.5.0",
      "_model_name": "DescriptionStyleModel",
      "_view_count": null,
      "_view_module": "@jupyter-widgets/base",
      "_view_module_version": "1.2.0",
      "_view_name": "StyleView",
      "description_width": ""
     }
    },
    "6067567d302d4722823dc6cc72040cfe": {
     "model_module": "@jupyter-widgets/base",
     "model_module_version": "1.2.0",
     "model_name": "LayoutModel",
     "state": {
      "_model_module": "@jupyter-widgets/base",
      "_model_module_version": "1.2.0",
      "_model_name": "LayoutModel",
      "_view_count": null,
      "_view_module": "@jupyter-widgets/base",
      "_view_module_version": "1.2.0",
      "_view_name": "LayoutView",
      "align_content": null,
      "align_items": null,
      "align_self": null,
      "border": null,
      "bottom": null,
      "display": null,
      "flex": null,
      "flex_flow": null,
      "grid_area": null,
      "grid_auto_columns": null,
      "grid_auto_flow": null,
      "grid_auto_rows": null,
      "grid_column": null,
      "grid_gap": null,
      "grid_row": null,
      "grid_template_areas": null,
      "grid_template_columns": null,
      "grid_template_rows": null,
      "height": null,
      "justify_content": null,
      "justify_items": null,
      "left": null,
      "margin": null,
      "max_height": null,
      "max_width": null,
      "min_height": null,
      "min_width": null,
      "object_fit": null,
      "object_position": null,
      "order": null,
      "overflow": null,
      "overflow_x": null,
      "overflow_y": null,
      "padding": null,
      "right": null,
      "top": null,
      "visibility": null,
      "width": null
     }
    },
    "7291540980434c428239b4401f9c0c04": {
     "model_module": "@jupyter-widgets/controls",
     "model_module_version": "1.5.0",
     "model_name": "HTMLModel",
     "state": {
      "_dom_classes": [],
      "_model_module": "@jupyter-widgets/controls",
      "_model_module_version": "1.5.0",
      "_model_name": "HTMLModel",
      "_view_count": null,
      "_view_module": "@jupyter-widgets/controls",
      "_view_module_version": "1.5.0",
      "_view_name": "HTMLView",
      "description": "",
      "description_tooltip": null,
      "layout": "IPY_MODEL_eb5191099e0e4f15ae8b1a2c1956767f",
      "placeholder": "​",
      "style": "IPY_MODEL_efe72ee70f4243d3b3249bfebc827a5a",
      "value": "100%"
     }
    },
    "7fe555a064894f249ea928173510df1c": {
     "model_module": "@jupyter-widgets/controls",
     "model_module_version": "1.5.0",
     "model_name": "HBoxModel",
     "state": {
      "_dom_classes": [],
      "_model_module": "@jupyter-widgets/controls",
      "_model_module_version": "1.5.0",
      "_model_name": "HBoxModel",
      "_view_count": null,
      "_view_module": "@jupyter-widgets/controls",
      "_view_module_version": "1.5.0",
      "_view_name": "HBoxView",
      "box_style": "",
      "children": [
       "IPY_MODEL_7291540980434c428239b4401f9c0c04",
       "IPY_MODEL_9006cc06959e4e65b0071b05c0b2e21b",
       "IPY_MODEL_8d332760ecb44f959043986a59eb4d70"
      ],
      "layout": "IPY_MODEL_6067567d302d4722823dc6cc72040cfe"
     }
    },
    "8d332760ecb44f959043986a59eb4d70": {
     "model_module": "@jupyter-widgets/controls",
     "model_module_version": "1.5.0",
     "model_name": "HTMLModel",
     "state": {
      "_dom_classes": [],
      "_model_module": "@jupyter-widgets/controls",
      "_model_module_version": "1.5.0",
      "_model_name": "HTMLModel",
      "_view_count": null,
      "_view_module": "@jupyter-widgets/controls",
      "_view_module_version": "1.5.0",
      "_view_name": "HTMLView",
      "description": "",
      "description_tooltip": null,
      "layout": "IPY_MODEL_277762d53d7b49cb95c40ead543681fa",
      "placeholder": "​",
      "style": "IPY_MODEL_a712c51697fa44848951526d55e2a179",
      "value": " 50000/50000 [1:42:42&lt;00:00,  8.95it/s]"
     }
    },
    "9006cc06959e4e65b0071b05c0b2e21b": {
     "model_module": "@jupyter-widgets/controls",
     "model_module_version": "1.5.0",
     "model_name": "FloatProgressModel",
     "state": {
      "_dom_classes": [],
      "_model_module": "@jupyter-widgets/controls",
      "_model_module_version": "1.5.0",
      "_model_name": "FloatProgressModel",
      "_view_count": null,
      "_view_module": "@jupyter-widgets/controls",
      "_view_module_version": "1.5.0",
      "_view_name": "ProgressView",
      "bar_style": "success",
      "description": "",
      "description_tooltip": null,
      "layout": "IPY_MODEL_21270e5456764a09b47a2f54e438947f",
      "max": 50000,
      "min": 0,
      "orientation": "horizontal",
      "style": "IPY_MODEL_ce2f5c7f16e648b69e5fe4a1f04b04a1",
      "value": 50000
     }
    },
    "a1722fa37ba74eddb4c7be2335badbc4": {
     "model_module": "@jupyter-widgets/base",
     "model_module_version": "1.2.0",
     "model_name": "LayoutModel",
     "state": {
      "_model_module": "@jupyter-widgets/base",
      "_model_module_version": "1.2.0",
      "_model_name": "LayoutModel",
      "_view_count": null,
      "_view_module": "@jupyter-widgets/base",
      "_view_module_version": "1.2.0",
      "_view_name": "LayoutView",
      "align_content": null,
      "align_items": null,
      "align_self": null,
      "border": null,
      "bottom": null,
      "display": null,
      "flex": null,
      "flex_flow": null,
      "grid_area": null,
      "grid_auto_columns": null,
      "grid_auto_flow": null,
      "grid_auto_rows": null,
      "grid_column": null,
      "grid_gap": null,
      "grid_row": null,
      "grid_template_areas": null,
      "grid_template_columns": null,
      "grid_template_rows": null,
      "height": null,
      "justify_content": null,
      "justify_items": null,
      "left": null,
      "margin": null,
      "max_height": null,
      "max_width": null,
      "min_height": null,
      "min_width": null,
      "object_fit": null,
      "object_position": null,
      "order": null,
      "overflow": null,
      "overflow_x": null,
      "overflow_y": null,
      "padding": null,
      "right": null,
      "top": null,
      "visibility": null,
      "width": null
     }
    },
    "a712c51697fa44848951526d55e2a179": {
     "model_module": "@jupyter-widgets/controls",
     "model_module_version": "1.5.0",
     "model_name": "DescriptionStyleModel",
     "state": {
      "_model_module": "@jupyter-widgets/controls",
      "_model_module_version": "1.5.0",
      "_model_name": "DescriptionStyleModel",
      "_view_count": null,
      "_view_module": "@jupyter-widgets/base",
      "_view_module_version": "1.2.0",
      "_view_name": "StyleView",
      "description_width": ""
     }
    },
    "ce2f5c7f16e648b69e5fe4a1f04b04a1": {
     "model_module": "@jupyter-widgets/controls",
     "model_module_version": "1.5.0",
     "model_name": "ProgressStyleModel",
     "state": {
      "_model_module": "@jupyter-widgets/controls",
      "_model_module_version": "1.5.0",
      "_model_name": "ProgressStyleModel",
      "_view_count": null,
      "_view_module": "@jupyter-widgets/base",
      "_view_module_version": "1.2.0",
      "_view_name": "StyleView",
      "bar_color": null,
      "description_width": ""
     }
    },
    "d0e4a5af62b34be09b56350d99b38134": {
     "model_module": "@jupyter-widgets/base",
     "model_module_version": "1.2.0",
     "model_name": "LayoutModel",
     "state": {
      "_model_module": "@jupyter-widgets/base",
      "_model_module_version": "1.2.0",
      "_model_name": "LayoutModel",
      "_view_count": null,
      "_view_module": "@jupyter-widgets/base",
      "_view_module_version": "1.2.0",
      "_view_name": "LayoutView",
      "align_content": null,
      "align_items": null,
      "align_self": null,
      "border": null,
      "bottom": null,
      "display": null,
      "flex": null,
      "flex_flow": null,
      "grid_area": null,
      "grid_auto_columns": null,
      "grid_auto_flow": null,
      "grid_auto_rows": null,
      "grid_column": null,
      "grid_gap": null,
      "grid_row": null,
      "grid_template_areas": null,
      "grid_template_columns": null,
      "grid_template_rows": null,
      "height": null,
      "justify_content": null,
      "justify_items": null,
      "left": null,
      "margin": null,
      "max_height": null,
      "max_width": null,
      "min_height": null,
      "min_width": null,
      "object_fit": null,
      "object_position": null,
      "order": null,
      "overflow": null,
      "overflow_x": null,
      "overflow_y": null,
      "padding": null,
      "right": null,
      "top": null,
      "visibility": null,
      "width": null
     }
    },
    "e3cac10797834351b0b2e1aa354aa0f2": {
     "model_module": "@jupyter-widgets/controls",
     "model_module_version": "1.5.0",
     "model_name": "DescriptionStyleModel",
     "state": {
      "_model_module": "@jupyter-widgets/controls",
      "_model_module_version": "1.5.0",
      "_model_name": "DescriptionStyleModel",
      "_view_count": null,
      "_view_module": "@jupyter-widgets/base",
      "_view_module_version": "1.2.0",
      "_view_name": "StyleView",
      "description_width": ""
     }
    },
    "eb5191099e0e4f15ae8b1a2c1956767f": {
     "model_module": "@jupyter-widgets/base",
     "model_module_version": "1.2.0",
     "model_name": "LayoutModel",
     "state": {
      "_model_module": "@jupyter-widgets/base",
      "_model_module_version": "1.2.0",
      "_model_name": "LayoutModel",
      "_view_count": null,
      "_view_module": "@jupyter-widgets/base",
      "_view_module_version": "1.2.0",
      "_view_name": "LayoutView",
      "align_content": null,
      "align_items": null,
      "align_self": null,
      "border": null,
      "bottom": null,
      "display": null,
      "flex": null,
      "flex_flow": null,
      "grid_area": null,
      "grid_auto_columns": null,
      "grid_auto_flow": null,
      "grid_auto_rows": null,
      "grid_column": null,
      "grid_gap": null,
      "grid_row": null,
      "grid_template_areas": null,
      "grid_template_columns": null,
      "grid_template_rows": null,
      "height": null,
      "justify_content": null,
      "justify_items": null,
      "left": null,
      "margin": null,
      "max_height": null,
      "max_width": null,
      "min_height": null,
      "min_width": null,
      "object_fit": null,
      "object_position": null,
      "order": null,
      "overflow": null,
      "overflow_x": null,
      "overflow_y": null,
      "padding": null,
      "right": null,
      "top": null,
      "visibility": null,
      "width": null
     }
    },
    "efe72ee70f4243d3b3249bfebc827a5a": {
     "model_module": "@jupyter-widgets/controls",
     "model_module_version": "1.5.0",
     "model_name": "DescriptionStyleModel",
     "state": {
      "_model_module": "@jupyter-widgets/controls",
      "_model_module_version": "1.5.0",
      "_model_name": "DescriptionStyleModel",
      "_view_count": null,
      "_view_module": "@jupyter-widgets/base",
      "_view_module_version": "1.2.0",
      "_view_name": "StyleView",
      "description_width": ""
     }
    },
    "f8f2c1599eab42b6970902e603215dc6": {
     "model_module": "@jupyter-widgets/controls",
     "model_module_version": "1.5.0",
     "model_name": "HBoxModel",
     "state": {
      "_dom_classes": [],
      "_model_module": "@jupyter-widgets/controls",
      "_model_module_version": "1.5.0",
      "_model_name": "HBoxModel",
      "_view_count": null,
      "_view_module": "@jupyter-widgets/controls",
      "_view_module_version": "1.5.0",
      "_view_name": "HBoxView",
      "box_style": "",
      "children": [
       "IPY_MODEL_0431f6d2a7f54c87bc49cd3965ae1da4",
       "IPY_MODEL_49e66b404e8c4e4eaa67d4393f7142d5",
       "IPY_MODEL_fcc91ad652e7412c9d827c22f0b3daca"
      ],
      "layout": "IPY_MODEL_2f25a2e1c770456faa7ee69b3af7129e"
     }
    },
    "fcc91ad652e7412c9d827c22f0b3daca": {
     "model_module": "@jupyter-widgets/controls",
     "model_module_version": "1.5.0",
     "model_name": "HTMLModel",
     "state": {
      "_dom_classes": [],
      "_model_module": "@jupyter-widgets/controls",
      "_model_module_version": "1.5.0",
      "_model_name": "HTMLModel",
      "_view_count": null,
      "_view_module": "@jupyter-widgets/controls",
      "_view_module_version": "1.5.0",
      "_view_name": "HTMLView",
      "description": "",
      "description_tooltip": null,
      "layout": "IPY_MODEL_404440f640bf43f590e323297f041e3f",
      "placeholder": "​",
      "style": "IPY_MODEL_5271a4cdd20e4db094ad585ba6fdb609",
      "value": " 138989/138989 [5:00:40&lt;00:00,  8.26it/s]"
     }
    }
   }
  }
 },
 "nbformat": 4,
 "nbformat_minor": 1
}
