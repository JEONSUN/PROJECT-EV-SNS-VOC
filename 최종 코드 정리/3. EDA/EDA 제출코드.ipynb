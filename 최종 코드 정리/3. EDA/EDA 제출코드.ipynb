{
 "cells": [
  {
   "cell_type": "markdown",
   "id": "fc244c2a",
   "metadata": {},
   "source": [
    "### EDA : 시계열 그래프"
   ]
  },
  {
   "cell_type": "markdown",
   "id": "5eca82c1",
   "metadata": {},
   "source": [
    "#### * 라이브러리"
   ]
  },
  {
   "cell_type": "code",
   "execution_count": null,
   "id": "6e0b2853",
   "metadata": {},
   "outputs": [],
   "source": [
    "import pandas as pd\n",
    "import numpy as np\n",
    "import matplotlib.pyplot as plt\n",
    "import seaborn as sns\n",
    "import nltk\n",
    "import re"
   ]
  },
  {
   "cell_type": "code",
   "execution_count": null,
   "id": "ddf40d2c",
   "metadata": {},
   "outputs": [],
   "source": [
    "# 그래프 기본설정\n",
    "import seaborn as sns\n",
    "sns.set_theme(style=\"whitegrid\")\n",
    "plt.rcParams['font.family'] = 'Malgun Gothic'"
   ]
  },
  {
   "cell_type": "markdown",
   "id": "a7a20d0c",
   "metadata": {},
   "source": [
    "#### * 파일 불러오기"
   ]
  },
  {
   "cell_type": "code",
   "execution_count": null,
   "id": "b32817e1",
   "metadata": {},
   "outputs": [],
   "source": [
    "final=pd.read_excel('최종 데이터셋.xlsx')"
   ]
  },
  {
   "cell_type": "markdown",
   "id": "1ef58fa0",
   "metadata": {},
   "source": [
    "#### * 연도별로 나누기"
   ]
  },
  {
   "cell_type": "code",
   "execution_count": null,
   "id": "1881cc3b",
   "metadata": {},
   "outputs": [],
   "source": [
    "data21 = final[final.Year == 2021]\n",
    "data20 = final[final.Year == 2020]\n",
    "data19 = final[final.Year == 2019]\n",
    "data18 = final[final.Year == 2018]\n",
    "data17 = final[final.Year == 2017]\n",
    "data16 = final[final.Year == 2016]"
   ]
  },
  {
   "cell_type": "markdown",
   "id": "6cf9925a",
   "metadata": {},
   "source": [
    "#### 1. 연도별 리뷰 데이터의 개수 분포 파악"
   ]
  },
  {
   "cell_type": "markdown",
   "id": "d01e4a5d",
   "metadata": {},
   "source": [
    "* 'Year'열을 기준으로 빈도수를 count한 피벗 테이블 생성"
   ]
  },
  {
   "cell_type": "code",
   "execution_count": null,
   "id": "55a60c53",
   "metadata": {},
   "outputs": [],
   "source": [
    "piv1 = pd.pivot_table(data = final,\n",
    "              index = ['Year'],\n",
    "              aggfunc = 'count')"
   ]
  },
  {
   "cell_type": "markdown",
   "id": "22e9b8a4",
   "metadata": {},
   "source": [
    "* 그래프 시각화"
   ]
  },
  {
   "cell_type": "code",
   "execution_count": null,
   "id": "2f123daf",
   "metadata": {},
   "outputs": [],
   "source": [
    "## 데이터 연도별 빈도\n",
    "month_axis = np.arange(len(piv1.index.tolist()))\n",
    "month_axis[:] = piv1.comment.mean()\n",
    "sns.catplot(data = piv1,kind = 'bar',x = piv1.index,  y = 'comment', alpha=.6, height=6)\n",
    "plt.plot(np.arange(len(piv1.index.tolist())),month_axis, c = 'r', linestyle = '--')\n",
    "plt.text(len(piv1.index.tolist())-1,piv1.comment.mean(),\"Mean: %.f\" % piv1.comment.mean(), fontsize = 18)\n",
    "plt.title(\"Year\")\n",
    "plt.show()"
   ]
  },
  {
   "cell_type": "markdown",
   "id": "257fe254",
   "metadata": {},
   "source": [
    "#### 2. 전체 명사 상위 100개 워드 클라우드"
   ]
  },
  {
   "cell_type": "markdown",
   "id": "8a66ba3a",
   "metadata": {},
   "source": [
    "* Counter를 이용한 명사 단순 빈도 분석"
   ]
  },
  {
   "cell_type": "code",
   "execution_count": null,
   "id": "8072b123",
   "metadata": {},
   "outputs": [],
   "source": [
    "#### 명사 단순빈도분석\n",
    "\n",
    "from collections import Counter\n",
    "\n",
    "#코퍼스 생성\n",
    "corpus = []\n",
    "\n",
    "final['nouns'] = [text.split(\" \") for text in final['nouns']]\n",
    "\n",
    "for i in range(len(final['nouns'])):\n",
    "    corpus.append(final['nouns'][i])"
   ]
  },
  {
   "cell_type": "code",
   "execution_count": null,
   "id": "961d12f1",
   "metadata": {},
   "outputs": [],
   "source": [
    "lst = []\n",
    "for i in range(len(corpus)):\n",
    "    for j in range(len(corpus[i])):\n",
    "        lst.append(corpus[i][j])\n",
    "        \n",
    "count = Counter(lst)\n",
    "most_count = count.most_common(100) #상위 100개 단어 확인"
   ]
  },
  {
   "cell_type": "markdown",
   "id": "cc1e6876",
   "metadata": {},
   "source": [
    "* 한글 글꼴 깨짐 방지"
   ]
  },
  {
   "cell_type": "code",
   "execution_count": null,
   "id": "4cc3047d",
   "metadata": {},
   "outputs": [],
   "source": [
    "#한글 글꼴 깨짐 방지\n",
    "import matplotlib\n",
    "from matplotlib import font_manager, rc\n",
    "import platform\n",
    "\n",
    "font_name = font_manager.FontProperties(fname=\"c:/Windows/Fonts/malgun.ttf\").get_name()\n",
    "rc('font', family=font_name)"
   ]
  },
  {
   "cell_type": "markdown",
   "id": "af93c82f",
   "metadata": {},
   "source": [
    "* 워드클라우드 시각화"
   ]
  },
  {
   "cell_type": "code",
   "execution_count": null,
   "id": "7099789a",
   "metadata": {},
   "outputs": [],
   "source": [
    "## 워드클라우드\n",
    "from wordcloud import WordCloud, STOPWORDS\n",
    "import matplotlib.pyplot as plt\n",
    "%matplotlib inline\n",
    "\n",
    "plt.figure(figsize=(8,8))\n",
    "fig, ax = plt.subplots(1,1)\n",
    "wordcloud=WordCloud(font_path=r'C:\\Users\\user\\Desktop\\대학생활\\글씨체\\NanumSquare_acEB.ttf', background_color='white').generate(str(most_count))\n",
    "ax.set_title('전체 명사 상위 100')\n",
    "plt.axis('off')\n",
    "ax.imshow(wordcloud)\n",
    "plt.savefig('전체 명사 상위 100.png')"
   ]
  },
  {
   "cell_type": "markdown",
   "id": "857c94bc",
   "metadata": {},
   "source": [
    "#### 3. 특정 키워드 언급량 추이 시각화"
   ]
  },
  {
   "cell_type": "markdown",
   "id": "6832dcc7",
   "metadata": {},
   "source": [
    "* 필요한 함수 정의"
   ]
  },
  {
   "cell_type": "code",
   "execution_count": null,
   "id": "baaa1ca2",
   "metadata": {},
   "outputs": [],
   "source": [
    "# 해당연도의 데이터를 반환하는 함수\n",
    "def get_com(year):  \n",
    "    return data[data.Year == year].reset_index(drop=True)"
   ]
  },
  {
   "cell_type": "code",
   "execution_count": null,
   "id": "cab0ee8b",
   "metadata": {},
   "outputs": [],
   "source": [
    "def dailycount_comment(start_day, end_day, keyword):\n",
    "    \"\"\"\n",
    "    start_day 부터 end_day까지의 일간 게시글 중에서 \n",
    "    keyword가 포함된 게시글 수를 추출하여 데이터프레임으로 반환\n",
    "    \"\"\"\n",
    "    \n",
    "    # 시간 기준 적용\n",
    "    selected = data[(data.date >= start_day) & (data.date <= end_day)].sort_values('date').reset_index(drop=True)\n",
    "\n",
    "    \n",
    "    result = [] # 일별 게시글 수를 저장할 리스트\n",
    "    \n",
    "    for day in pd.date_range(start=start_day, end=end_day, freq=\"D\"):\n",
    "        count = 0\n",
    "        \n",
    "        for text in selected[selected.date == day]['comment']:\n",
    "            if re.search(keyword, text): # 댓글에서 keyword를 찾아서 있다면 count 증가\n",
    "                count += 1\n",
    "\n",
    "        result.append(count) # 날짜 순으로 게시글 수를 추가함\n",
    "        \n",
    "    return result"
   ]
  },
  {
   "cell_type": "markdown",
   "id": "62134889",
   "metadata": {},
   "source": [
    "* 전기차 관련 키워드 언급량 추이 "
   ]
  },
  {
   "cell_type": "code",
   "execution_count": null,
   "id": "6fffe548",
   "metadata": {},
   "outputs": [],
   "source": [
    "# 2019년부터 전기차와 관련한 키워드를 가진 댓글 수 그래프\n",
    "start = \"2019-01-01\"\n",
    "end = \"2021-07-31\" \n",
    "\n",
    "keyword_list = ['전기차', '아이오닉', '충전', '테슬라']\n",
    "\n",
    "values = np.array([dailycount_comment(start, end, keyword) for keyword in keyword_list]).T\n",
    "dates = pd.date_range(start, end, freq=\"D\")\n",
    "df = pd.DataFrame(values, dates, columns=keyword_list)\n",
    "df = df.rolling(30).mean() #30일 이동평균\n",
    "\n",
    "plt.figure(figsize=(12,5))\n",
    "g = sns.lineplot(data=df, palette=\"tab10\", linewidth=2.5)\n",
    "g.set_title('전기차 관련 키워드 언급량')"
   ]
  },
  {
   "cell_type": "markdown",
   "id": "d794f6c8",
   "metadata": {},
   "source": [
    "* 전기차 모델 별 언급량 추이"
   ]
  },
  {
   "cell_type": "code",
   "execution_count": null,
   "id": "3ea1f370",
   "metadata": {},
   "outputs": [],
   "source": [
    "# 2019년부터 전기차 모델별 댓글 수 그래프\n",
    "start = \"2019-01-01\"\n",
    "end = \"2021-07-31\" \n",
    "\n",
    "keyword_list = ['모델 Y', '모델 3', '아이오닉', '코나', '니로', 'EQA']\n",
    "\n",
    "values = np.array([dailycount_comment(start, end, keyword) for keyword in keyword_list]).T\n",
    "dates = pd.date_range(start, end, freq=\"D\")\n",
    "df = pd.DataFrame(values, dates, columns=keyword_list)\n",
    "df = df.rolling(30).mean() #30일 이동평균\n",
    "\n",
    "plt.figure(figsize=(12,5))\n",
    "g = sns.lineplot(data=df, palette=\"tab10\", linewidth=2)\n",
    "g.set_title('전기차 모델별 언급량')"
   ]
  }
 ],
 "metadata": {
  "kernelspec": {
   "display_name": "Python 3",
   "language": "python",
   "name": "python3"
  },
  "language_info": {
   "codemirror_mode": {
    "name": "ipython",
    "version": 3
   },
   "file_extension": ".py",
   "mimetype": "text/x-python",
   "name": "python",
   "nbconvert_exporter": "python",
   "pygments_lexer": "ipython3",
   "version": "3.8.8"
  }
 },
 "nbformat": 4,
 "nbformat_minor": 5
}
