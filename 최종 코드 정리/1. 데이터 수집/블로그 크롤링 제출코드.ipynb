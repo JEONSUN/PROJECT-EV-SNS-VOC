{
 "cells": [
  {
   "cell_type": "markdown",
   "metadata": {},
   "source": [
    "## 1. Library"
   ]
  },
  {
   "cell_type": "code",
   "execution_count": null,
   "metadata": {},
   "outputs": [],
   "source": [
    "from selenium.webdriver import Chrome\n",
    "import requests\n",
    "from bs4 import BeautifulSoup\n",
    "from selenium import webdriver\n",
    "from urllib.parse import quote\n",
    "import time\n",
    "import os\n",
    "import pandas as pd\n",
    "from tqdm import tqdm\n",
    "import math\n",
    "# 크롬 웹브라우저 실행\n",
    "path = \"chromedriver.exe\""
   ]
  },
  {
   "cell_type": "markdown",
   "metadata": {},
   "source": [
    "## 2. 블로그 url 추출"
   ]
  },
  {
   "cell_type": "code",
   "execution_count": null,
   "metadata": {},
   "outputs": [],
   "source": [
    "# 빈창 만들기\n",
    "options = webdriver.ChromeOptions()\n",
    "options.add_argument('--start-maximized')\n",
    "options.add_argument('Mozilla/5.0 (Windows NT 10.0; Win64; x64) AppleWebKit/537.36 (KHTML, like Gecko) Chrome/92.0.4515.107 Safari/537.36')\n",
    "\n",
    "driver = webdriver.Chrome('chromedriver', options = options)\n",
    "url_list = []\n",
    "title=[]\n",
    "name=[]\n",
    "day=[]\n",
    "content_list = \"\"\n",
    "# 키워드 검색\n",
    "text = \"전기차 사용기\"\n",
    "\n",
    "for i in tqdm(range(1, math.ceil(523/7))):  # 블로그 건 수를 기준으로 블로그 내용을 읽어옴(한 페이지당 7개의 블로그 존재)\n",
    "    url = 'https://section.blog.naver.com/Search/Post.naver?pageNo='+ str(i) +\\\n",
    "    '&rangeType=PERIOD&orderBy=sim&startDate=2016-01-01&endDate=2021-08-04&keyword=' + text\n",
    "    driver.get(url)\n",
    "    time.sleep(1)\n",
    " \n",
    "    for j in range(1, 8): # 각 블로그 주소 저장(8개로!)\n",
    "        url_titles = driver.find_element_by_css_selector('#content > section > div.area_list_search > div:nth-child({}) > div > div.info_post > div.desc > a.desc_inner'.format(j))\n",
    "        url_title = url_titles.get_attribute('href')\n",
    "        url_list.append(url_title)\n",
    "\n",
    "        titles=driver.find_element_by_css_selector('#content > section > div.area_list_search > div:nth-child({}) > div > div.info_post > div.desc > a.desc_inner > strong > span'.format(j)).text\n",
    "        title.append(titles)\n",
    "        \n",
    "        names=driver.find_element_by_css_selector('#content > section > div.area_list_search > div:nth-child({}) > div > div.info_post > div.writer_info > a > em'.format(j)).text\n",
    "        name.append(names)\n",
    "\n",
    "        days=driver.find_element_by_css_selector('#content > section > div.area_list_search > div:nth-child({}) > div > div.info_post > div.writer_info > span.date'.format(j)).text\n",
    "        day.append(days)\n",
    "                       \n",
    "        \n",
    "print(\"url 수집 끝, 해당 url 데이터 크롤링\")\n",
    "\n",
    "df_url = pd.DataFrame()\n",
    "df_url['url'] = url_list\n",
    "df_url['titles'] = title\n",
    "df_url['names'] = name\n",
    "df_url['days'] = day"
   ]
  },
  {
   "cell_type": "markdown",
   "metadata": {},
   "source": [
    "## 3. 추출한 url로 본문 크롤링"
   ]
  },
  {
   "cell_type": "code",
   "execution_count": null,
   "metadata": {},
   "outputs": [],
   "source": [
    "def make_iframe(url) :\n",
    "    headers = {\"User-Agent\":\"Mozilla/5.0 (Windows NT 10.0; Win64; x64) AppleWebKit/537.36 (KHTML, like Gecko) Chrome/90.0.4430.93 Safari/537.36\"}\n",
    "    res = requests.get(url, headers=headers)\n",
    "    res.raise_for_status() # 문제시 프로그램 종료\n",
    "    soup = BeautifulSoup(res.text, \"lxml\")\n",
    "    \n",
    "    src_url = \"https://blog.naver.com/\" + soup.iframe[\"src\"]\n",
    "    time.sleep(1)\n",
    "    response = requests.get(src_url)\n",
    "    time.sleep(1)\n",
    "    logno = src_url.find('logNo=')\n",
    "    red= src_url.find('&red')\n",
    "    log_no =src_url[logno+6 : red]\n",
    "    \n",
    "    if response.status_code == 200:\n",
    "        html = response.text\n",
    "        soup = BeautifulSoup(html, 'html.parser')\n",
    "        source = '#post-view{}'.format(log_no)\n",
    "        if soup.select_one(source) == [] :\n",
    "            pass   \n",
    "        else :\n",
    "            title = soup.select_one(source).text.replace('\\n','')\n",
    "        # 기능, 번역보기 이후로 본문이 존재함 -> 정리\n",
    "        if title.find('기능번역보기') != -1 :\n",
    "            del_idx = title.find('기능번역보기')\n",
    "            title = title[del_idx +6:]\n",
    "        else :\n",
    "            title = title\n",
    "    print(\"-\"*6,'진행중',\"-\"*6)\n",
    "    return title"
   ]
  },
  {
   "cell_type": "markdown",
   "metadata": {},
   "source": [
    "## 4. 파일 저장"
   ]
  },
  {
   "cell_type": "code",
   "execution_count": null,
   "metadata": {},
   "outputs": [],
   "source": [
    "# 'utf-8' 인코딩으로 설정하는 함수\n",
    "def encode_error(x) :\n",
    "    x = x.encode('utf-8', 'replace').decode()\n",
    "    return x"
   ]
  },
  {
   "cell_type": "code",
   "execution_count": null,
   "metadata": {},
   "outputs": [],
   "source": [
    "# 인코딩 지정\n",
    "df_url['리뷰'] = df_url.리뷰.apply(lambda x : encode_error(x))"
   ]
  },
  {
   "cell_type": "code",
   "execution_count": null,
   "metadata": {},
   "outputs": [],
   "source": [
    "# xlsx 파일로 저장\n",
    "writer = pd.ExcelWriter(r'전기차 사용기.xlsx', engine='xlsxwriter',options={'strings_to_urls': False})\n",
    "df_url.to_excel(writer)\n",
    "writer.close()"
   ]
  }
 ],
 "metadata": {
  "kernelspec": {
   "display_name": "Python 3 (ipykernel)",
   "language": "python",
   "name": "python3"
  },
  "language_info": {
   "codemirror_mode": {
    "name": "ipython",
    "version": 3
   },
   "file_extension": ".py",
   "mimetype": "text/x-python",
   "name": "python",
   "nbconvert_exporter": "python",
   "pygments_lexer": "ipython3",
   "version": "3.8.5"
  }
 },
 "nbformat": 4,
 "nbformat_minor": 4
}
