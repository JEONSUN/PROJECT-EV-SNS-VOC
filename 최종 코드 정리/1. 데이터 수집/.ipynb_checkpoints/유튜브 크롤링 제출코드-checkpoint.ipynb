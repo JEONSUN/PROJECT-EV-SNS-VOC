{
 "cells": [
  {
   "cell_type": "markdown",
   "metadata": {},
   "source": [
    "# 1. 유튜브 영상 크롤링\n",
    "## 1-1. 셀레니움"
   ]
  },
  {
   "cell_type": "code",
   "execution_count": null,
   "metadata": {},
   "outputs": [],
   "source": [
    "# 필요한 모듈 import\n",
    "from googleapiclient.discovery import build\n",
    "from selenium import webdriver\n",
    "from bs4 import BeautifulSoup as bs\n",
    "from selenium.webdriver.common.keys import Keys\n",
    "\n",
    "import pandas as pd\n",
    "import time\n",
    "import re"
   ]
  },
  {
   "cell_type": "markdown",
   "metadata": {},
   "source": [
    "### 키워드별 크롤링"
   ]
  },
  {
   "cell_type": "markdown",
   "metadata": {},
   "source": [
    "#### 검색 키워드 리스트 (하나씩 모두 크롤링)\n",
    "- 전기차 리뷰\n",
    "- 전기차 후기\n",
    "- 전기차 장단점\n",
    "- 전기차 사용기\n",
    "- 전기차 시승기\n",
    "- 전기차 운행기\n",
    "- 전기차 주행기\n",
    "\n",
    "\n",
    "- 전기자동차 리뷰\n",
    "- 전기자동차 후기\n",
    "- 전기자동차 장단점\n",
    "- 전기자동차 사용기\n",
    "- 전기자동차 시승기\n",
    "- 전기자동차 운행기\n",
    "- 전기자동차 주행기"
   ]
  },
  {
   "cell_type": "code",
   "execution_count": null,
   "metadata": {},
   "outputs": [],
   "source": [
    "# 크롬드라이버 경로 설정\n",
    "driver = webdriver.Chrome('.\\chromedriver.exe')"
   ]
  },
  {
   "cell_type": "code",
   "execution_count": null,
   "metadata": {},
   "outputs": [],
   "source": [
    "keyword = '전기차+시승기' # 유튜브 검색 키워드"
   ]
  },
  {
   "cell_type": "code",
   "execution_count": null,
   "metadata": {},
   "outputs": [],
   "source": [
    "url = 'https://www.youtube.com/results?search_query={}'.format(keyword)\n",
    "driver.get(url)\n",
    "\n",
    "body = driver.find_element_by_tag_name('body') # body를 스크롤할 예정\n",
    "num_of_pagedowns = 300 # 총 페이지를 내리는 수\n",
    "\n",
    "while num_of_pagedowns:\n",
    "    body.send_keys(Keys.PAGE_DOWN)\n",
    "    time.sleep(1.5) # 스크롤을 내린 후 페이지가 로드되는 시간\n",
    "    num_of_pagedowns -= 1\n",
    "    \n",
    "soup = bs(driver.page_source, 'html.parser') # html 태그를 보기 쉽게 바꾸어 저장\n",
    "driver.close()"
   ]
  },
  {
   "cell_type": "code",
   "execution_count": null,
   "metadata": {},
   "outputs": [],
   "source": [
    "# 유튜브 채널명 추출하는 함수 정의\n",
    "def get_channel(channel_name):\n",
    "    index1 = channel_name.find('게시자')\n",
    "    index2 = channel_name.find('분 전')\n",
    "    index3 = channel_name.find('시간 전')\n",
    "    index4 = channel_name.find('일 전')\n",
    "    index5 = channel_name.find('주 전')\n",
    "    index6 = channel_name.find('개월 전')\n",
    "    index7 = channel_name.find('년 전')\n",
    "    if index2 != -1:\n",
    "        channel_list.append(channel_name[index1+5:index2-2])\n",
    "    elif index3 != -1:\n",
    "        channel_list.append(channel_name[index1+5:index3-2])\n",
    "    elif index4 != -1:\n",
    "        channel_list.append(channel_name[index1+5:index4-2])\n",
    "    elif index5 != -1:\n",
    "        channel_list.append(channel_name[index1+5:index5-2])\n",
    "    elif index6 != -1:\n",
    "        channel_list.append(channel_name[index1+5:index6-2])\n",
    "    else:\n",
    "        channel_list.append(channel_name[index1+5:index7-2])\n",
    "        \n",
    "    return "
   ]
  },
  {
   "cell_type": "code",
   "execution_count": null,
   "metadata": {},
   "outputs": [],
   "source": [
    "# 동영상 정보 중 필요한 정보들을 리스트에 추가함\n",
    "# 제목, 조회수, 채널명, url\n",
    "\n",
    "# 필요 정보가 들어있는 부분만 추출\n",
    "name = soup.select('a#video-title')\n",
    "video_url = soup.select('a#video-title')\n",
    "view = soup.select('a#video-title')\n",
    "channel = soup.select('a#video-title')\n",
    "\n",
    "# 정보를 담을 빈 리스트 생성\n",
    "name_list = []\n",
    "url_list = []\n",
    "view_list = []\n",
    "channel_list = []\n",
    "\n",
    "for i in range(len(name)):\n",
    "    name_list.append(name[i].text.strip())\n",
    "    view_list.append(view[i].get('aria-label').split()[-1])\n",
    "    channel_name = channel[i].get('aria-label')\n",
    "    get_channel(channel_name)\n",
    "for i in video_url:\n",
    "    url_list.append('{}{}'.format('https://www.youtube.com',i.get('href')))"
   ]
  },
  {
   "cell_type": "code",
   "execution_count": null,
   "metadata": {},
   "outputs": [],
   "source": [
    "# url에서 video_id 추출\n",
    "video_id = []\n",
    "\n",
    "for url in url_list:\n",
    "    # url의 (v=) 다음에 오는 11개 문자열 compile\n",
    "    pat = re.compile(\"(v=)([a-zA-Z0-9-_]{11})\")\n",
    "\n",
    "    # v= 문자열을 검색할땐 포함하지만 search할 땐 그룹으로 제외\n",
    "    video_id.append(pat.search(url).group(2))"
   ]
  },
  {
   "cell_type": "code",
   "execution_count": null,
   "metadata": {},
   "outputs": [],
   "source": [
    "# 동영상 정보를 데이터프레임으로 저장\n",
    "youtubeDic = {\n",
    "    '제목': name_list,\n",
    "    'videoID': video_id,\n",
    "    '조회수': view_list,\n",
    "    '채널명': channel_list\n",
    "}\n",
    "\n",
    "youtubeDf = pd.DataFrame(youtubeDic).reset_index(drop=True)"
   ]
  },
  {
   "cell_type": "markdown",
   "metadata": {},
   "source": [
    "### 추출된 영상리스트 정제"
   ]
  },
  {
   "cell_type": "code",
   "execution_count": null,
   "metadata": {},
   "outputs": [],
   "source": [
    "# 추출된 youtube_df에서 중복된 videoID가 있는지 확인\n",
    "sum(youtubeDf.videoID.value_counts()>1)"
   ]
  },
  {
   "cell_type": "code",
   "execution_count": null,
   "metadata": {},
   "outputs": [],
   "source": [
    "# 중복된 비디오 삭제\n",
    "youtubeDf.drop_duplicates('videoID',inplace = True)\n",
    "\n",
    "# 중복된 videoID 없음\n",
    "sum(youtubeDf.videoID.value_counts()>1)"
   ]
  },
  {
   "cell_type": "code",
   "execution_count": null,
   "metadata": {},
   "outputs": [],
   "source": [
    "# 채널명이 'YouTube 영화 1시간 '인 경우 조회수가 분으로 뜨는 문제가 발생하여 해당 행 삭제\n",
    "youtubeDf = youtubeDf.drop(youtubeDf[youtubeDf['채널명']=='YouTube 영화 1시간 '].index, axis=0).reset_index(drop=True)"
   ]
  },
  {
   "cell_type": "code",
   "execution_count": null,
   "metadata": {},
   "outputs": [],
   "source": [
    "# 조회수 컬럼에서 '회'와 콤마(,) 제거 & 없음은 0으로 변환\n",
    "youtubeDf['조회수'] = youtubeDf['조회수'].apply(lambda x: re.sub('없음','0', re.sub('회|,', '', x))).astype(int).copy()\n",
    "\n",
    "# 조회수순으로 정렬\n",
    "\n",
    "youtubeDf = youtubeDf.sort_values('조회수', ascending=False).reset_index(drop=True)"
   ]
  },
  {
   "cell_type": "markdown",
   "metadata": {},
   "source": [
    "### 데이터프레임 저장"
   ]
  },
  {
   "cell_type": "code",
   "execution_count": null,
   "metadata": {},
   "outputs": [],
   "source": [
    "# 키워드별로 엑셀파일로 저장\n",
    "youtubeDf.to_excel('유튜브_전기차시승기.xlsx', index=False)"
   ]
  },
  {
   "cell_type": "markdown",
   "metadata": {},
   "source": [
    "## 1-2. API"
   ]
  },
  {
   "cell_type": "code",
   "execution_count": null,
   "metadata": {},
   "outputs": [],
   "source": [
    "# 필요한 모듈 import\n",
    "from apiclient.discovery import build\n",
    "import pandas as pd"
   ]
  },
  {
   "cell_type": "markdown",
   "metadata": {},
   "source": [
    "### 크롤링"
   ]
  },
  {
   "cell_type": "code",
   "execution_count": null,
   "metadata": {},
   "outputs": [],
   "source": [
    "# 유튜브 영상 크롤링하는 함수 정의\n",
    "\n",
    "DEVELOPER_KEY = \"********\" \n",
    "YOUTUBE_API_SERVICE_NAME = \"youtube\"\n",
    "YOUTUBE_API_VERSION = \"v3\"\n",
    "\n",
    "def youtube_search(keyword):\n",
    "    youtube = build(YOUTUBE_API_SERVICE_NAME, YOUTUBE_API_VERSION, developerKey=DEVELOPER_KEY)\n",
    "    \n",
    "    search_response = youtube.search().list(q=keyword, part=\"id,snippet\", maxResults=50).execute()\n",
    "    \n",
    "    videos = []\n",
    "    \n",
    "    # 검색 결과가 있다면 영상의 제목, ID, 날짜, 설명을 저장함\n",
    "    while search_response:\n",
    "        for search_result in  search_response.get(\"items\", []):\n",
    "            if search_result[\"id\"][\"kind\"] == \"youtube#video\":\n",
    "                videos.append([search_result[\"snippet\"][\"title\"], search_result[\"id\"][\"videoId\"], \n",
    "                               search_result[\"snippet\"][\"publishedAt\"], search_result[\"snippet\"][\"description\"]])\n",
    "        \n",
    "        if 'nextPageToken' in search_response:\n",
    "            search_response = youtube.search().list(q=keyword, part=\"id,snippet\", maxResults=50, pageToken=search_response['nextPageToken']).execute()\n",
    "        else:\n",
    "            break\n",
    "            \n",
    "    return pd.DataFrame(videos, columns = ['제목', 'videoID', '업로드날짜', '설명'])"
   ]
  },
  {
   "cell_type": "code",
   "execution_count": null,
   "metadata": {},
   "outputs": [],
   "source": [
    "# 6가지 키워드에 대해 진행\n",
    "전기차후기 = youtube_search('전기차+후기')\n",
    "전기차리뷰 = youtube_search('전기차+리뷰')\n",
    "전기차장단점 = youtube_search('전기차+장단점')\n",
    "전기차사용기 = youtube_search('전기차+사용기')\n",
    "전기차시승기 = youtube_search('전기차+시승기')\n",
    "전기차운행기 = youtube_search('전기차+운행기')\n",
    "전기차주행기 = youtube_search('전기차+주행기')"
   ]
  },
  {
   "cell_type": "markdown",
   "metadata": {},
   "source": [
    "### 데이터프레임 저장"
   ]
  },
  {
   "cell_type": "code",
   "execution_count": null,
   "metadata": {},
   "outputs": [],
   "source": [
    "# 저장\n",
    "전기차Df = pd.concat([전기차후기, 전기차리뷰, 전기차장단점, 전기차사용기, 전기차시승기, 전기차운행기, 전기차주행기])\n",
    "전기차Df.to_excel('유튜브_전기차API.xlsx', index=None)"
   ]
  },
  {
   "cell_type": "markdown",
   "metadata": {},
   "source": [
    "# 2. 영상으로부터 유튜브 댓글 추출"
   ]
  },
  {
   "cell_type": "code",
   "execution_count": null,
   "metadata": {},
   "outputs": [],
   "source": [
    "# 필요한 모듈 import\n",
    "from selenium import webdriver\n",
    "from bs4 import BeautifulSoup as bs\n",
    "from apiclient.discovery import build\n",
    "\n",
    "import pandas as pd\n",
    "import time\n",
    "import re\n",
    "from tqdm import tqdm"
   ]
  },
  {
   "cell_type": "markdown",
   "metadata": {},
   "source": [
    "### 크롤링한 영상리스트를 하나의 데이터프레임으로 통합"
   ]
  },
  {
   "cell_type": "code",
   "execution_count": null,
   "metadata": {},
   "outputs": [],
   "source": [
    "# 셀레니움으로 크롤링한 영상파일 불러오기\n",
    "v1 = pd.read_excel('datasets/유튜브_전기차후기.xlsx')\n",
    "v2 = pd.read_excel('datasets/유튜브_전기차리뷰.xlsx')\n",
    "v3 = pd.read_excel('datasets/유튜브_전기차장단점.xlsx')\n",
    "v4 = pd.read_excel('datasets/유튜브_전기차사용기.xlsx')\n",
    "v5 = pd.read_excel('datasets/유튜브_전기차시승기.xlsx')\n",
    "v6 = pd.read_excel('datasets/유튜브_전기차운행기.xlsx')\n",
    "v7 = pd.read_excel('datasets/유튜브_전기차주행기.xlsx')\n",
    "\n",
    "v8 = pd.read_excel('datasets/유튜브_전기자동차후기.xlsx')\n",
    "v9 = pd.read_excel('datasets/유튜브_전기자동차리뷰.xlsx')\n",
    "v10 = pd.read_excel('datasets/유튜브_전기자동차장단점.xlsx')\n",
    "v11 = pd.read_excel('datasets/유튜브_전기자동차사용기.xlsx')\n",
    "v12 = pd.read_excel('datasets/유튜브_전기자동차시승기.xlsx')\n",
    "v13 = pd.read_excel('datasets/유튜브_전기자동차운행기.xlsx')\n",
    "v14 = pd.read_excel('datasets/유튜브_전기자동차주행기.xlsx')\n",
    "\n",
    "# API로 크롤링한 영상파일 불러오기\n",
    "v15 = pd.read_excel('datasets/유튜브_전기차API.xlsx')\n",
    "\n",
    "# 모두 한 파일로 합친 후 제목과 videoID 열만 추출하여 저장\n",
    "youtubeDf = pd.concat([v1, v2, v3, v4, v5, v6, v7, v8, \n",
    "                       v9, v10, v11, v12, v13, v14, v15]).drop(['조회수', '채널명', '설명', '업로드날짜'], axis=1)\n",
    "youtubeDf"
   ]
  },
  {
   "cell_type": "code",
   "execution_count": null,
   "metadata": {},
   "outputs": [],
   "source": [
    "# 추출된 youtube_df에서 중복된 videoID가 있는지 확인\n",
    "sum(youtubeDf.videoID.value_counts()>1)"
   ]
  },
  {
   "cell_type": "code",
   "execution_count": null,
   "metadata": {},
   "outputs": [],
   "source": [
    "# 중복된 비디오 삭제\n",
    "youtubeDf.drop_duplicates('videoID',inplace = True)\n",
    "\n",
    "# 중복된 videoID 없음\n",
    "sum(youtubeDf.videoID.value_counts()>1)"
   ]
  },
  {
   "cell_type": "markdown",
   "metadata": {},
   "source": [
    "### 특정 키워드가 포함된 제목만 추출\n",
    "키워드 검색을 통해 모든 영상들을 수집했기 때문에 관련없는 영상들을 제거하기 위해서 키워드로 필터링 "
   ]
  },
  {
   "cell_type": "code",
   "execution_count": null,
   "metadata": {},
   "outputs": [],
   "source": [
    "## 포함단어와 제외단어 설정\n",
    "## 포함단어: 원래 의도했던 키워드, 전기차 모델명\n",
    "## 제외단어: 전기차의 성능과 관련없는 주제 키워드, 하이브리드나 전기차가 아닌 모델명\n",
    "포함단어 = '시승|운행기|주행|전기차|전기자동차|EV|모델|아이오닉|트위지|타이칸|포터|G80|e2008|i3|EQS|코나|EQC|EQA|트론|I-PACE|니로|다니고|e-tron|e-208|e208|리프'\n",
    "제외단어 = '머니게임|하이브리드|스타리아|투싼|넥쏘|스포티지|CN7|cn7|카이엔|스쿠터|농기계|자전거|중고|에어팟|갤럭시|주식|주가|관련주|유료광고'\n",
    "\n",
    "# 특정 키워드가 포함된 제목만 추출\n",
    "youtubeDf = youtubeDf[youtubeDf['제목'].str.contains(포함단어) &\n",
    "                      ~youtubeDf['제목'].str.contains(제외단어)]\n",
    "\n",
    "youtubeDf.reset_index(drop=True, inplace=True)\n",
    "youtubeDf"
   ]
  },
  {
   "cell_type": "code",
   "execution_count": null,
   "metadata": {},
   "outputs": [],
   "source": [
    "# 시간을 나타내는 문자열을 datetime형으로 변환\n",
    "import datetime\n",
    "\n",
    "def utc_change(time):\n",
    "    time = datetime.datetime.strptime(time,\"%Y-%m-%dT%H:%M:%SZ\")\n",
    "    return time"
   ]
  },
  {
   "cell_type": "code",
   "execution_count": null,
   "metadata": {},
   "outputs": [],
   "source": [
    "# 댓글 추출하는 함수 정의 (답글포함)\n",
    "def give_me_comment(developerKey, videoid) :\n",
    "    comments = list()\n",
    "    api_obj = build('youtube', 'v3', developerKey= developerKey)\n",
    "    try :\n",
    "        response = api_obj.commentThreads().list(part='snippet,replies', videoId=videoid, maxResults=100).execute()\n",
    "    except:\n",
    "        return []\n",
    "\n",
    "    while response:\n",
    "        for item in response['items']:\n",
    "            comment = item['snippet']['topLevelComment']['snippet']\n",
    "            comments.append([comment['textDisplay'], comment['authorDisplayName'], comment['publishedAt'], comment['likeCount'], videoid])\n",
    " \n",
    "            if item['snippet']['totalReplyCount'] > 0:\n",
    "                try:                \n",
    "                    for reply_item in item['replies']['comments']:\n",
    "                        reply = reply_item['snippet']\n",
    "                        comments.append([reply['textDisplay'], reply['authorDisplayName'], reply['publishedAt'], reply['likeCount'], videoid])\n",
    "\n",
    "                except KeyError: # 예외처리\n",
    "                    print('KeyError')\n",
    "\n",
    "        if 'nextPageToken' in response:\n",
    "            response = api_obj.commentThreads().list(part='snippet,replies', videoId=videoid, pageToken=response['nextPageToken'], maxResults=100).execute()\n",
    "        else:\n",
    "            break\n",
    "            \n",
    "    return comments # 해당 영상의 댓글들이 저장된 리스트를 반환 (리스트의 리스트 형태)"
   ]
  },
  {
   "cell_type": "markdown",
   "metadata": {},
   "source": [
    "#### 영상의 수가 많으므로 나누어 추출"
   ]
  },
  {
   "cell_type": "code",
   "execution_count": null,
   "metadata": {},
   "outputs": [],
   "source": [
    "## ~2000번째 영상까지 추출\n",
    "comment_list = []\n",
    "\n",
    "for v_id in tqdm(youtubeDf['videoID'][:2000]):\n",
    "    comment_list += give_me_comment('********', v_id)\n",
    "    \n",
    "comment_df = pd.DataFrame(comment_list, columns = ['comment','user name','Time','Thumbs UP','videoID'])"
   ]
  },
  {
   "cell_type": "code",
   "execution_count": null,
   "metadata": {},
   "outputs": [],
   "source": [
    "# 2001번째 영상부터 끝까지 추출\n",
    "comment_list2 = []\n",
    "\n",
    "for v_id in tqdm(youtubeDf['videoID'][2000:]):\n",
    "    comment_list2 += give_me_comment('********', v_id)\n",
    "    \n",
    "comment_df2 = pd.DataFrame(comment_list2, columns = ['comment','user name','Time','Thumbs UP','videoID'])"
   ]
  },
  {
   "cell_type": "code",
   "execution_count": null,
   "metadata": {},
   "outputs": [],
   "source": [
    "# 두 데이터프레임 병합\n",
    "comment_df = pd.concat([comment_df, comment_df2])\n",
    "comment_df"
   ]
  },
  {
   "cell_type": "code",
   "execution_count": null,
   "metadata": {},
   "outputs": [],
   "source": [
    "# 총 댓글 수\n",
    "len(comment_df)"
   ]
  },
  {
   "cell_type": "markdown",
   "metadata": {},
   "source": [
    "### 시간 변수 변경 & 시간순 정렬"
   ]
  },
  {
   "cell_type": "code",
   "execution_count": null,
   "metadata": {},
   "outputs": [],
   "source": [
    "comment_df['Time'] = comment_df['Time'].apply(lambda x: utc_change(x))\n",
    "comment_df.sort_values(by = 'Time',ascending = False,inplace = True)"
   ]
  },
  {
   "cell_type": "code",
   "execution_count": null,
   "metadata": {},
   "outputs": [],
   "source": [
    "# 2016.01.01이후 댓글만 추출\n",
    "comment_df = comment_df[comment_df.Time >= datetime.datetime(2016,1,1)].reset_index(drop=True)"
   ]
  },
  {
   "cell_type": "code",
   "execution_count": null,
   "metadata": {},
   "outputs": [],
   "source": [
    "# 2016년 이후 댓글수\n",
    "len(comment_df)"
   ]
  },
  {
   "cell_type": "code",
   "execution_count": null,
   "metadata": {},
   "outputs": [],
   "source": [
    "# 특정 키워드가 포함된 댓글만 추출\n",
    "# a: 자동차 관련 단어\n",
    "# b: 자동차의 평가와 관련한 단어\n",
    "# c: 기타 단어\n",
    "\n",
    "a = '전기|제품'\n",
    "b = '연비|디자인|가격|성능|승차감|속도|충전|주행|옵션|네비|가속|수리|좌석|품질|마감|실내|륜|배터리|제동|모터'\n",
    "c = '환경'\n",
    "\n",
    "word_list = a+'|'+b+'|'+c"
   ]
  },
  {
   "cell_type": "code",
   "execution_count": null,
   "metadata": {},
   "outputs": [],
   "source": [
    "comment_df_clean = comment_df[comment_df.comment.str.contains(word_list).fillna(False)].reset_index(drop=True)\n",
    "comment_df_clean"
   ]
  },
  {
   "cell_type": "code",
   "execution_count": null,
   "metadata": {},
   "outputs": [],
   "source": [
    "# 총 유의미한 댓글 수\n",
    "len(comment_df_clean)"
   ]
  },
  {
   "cell_type": "markdown",
   "metadata": {},
   "source": [
    "### 최종파일 저장"
   ]
  },
  {
   "cell_type": "code",
   "execution_count": null,
   "metadata": {},
   "outputs": [],
   "source": [
    "final_data = comment_df_clean[['user name', 'Time', 'comment']]\n",
    "final_data.columns = ['name', 'date', 'comment']\n",
    "final_data.to_excel('최종유튜브댓글.xlsx', index=None)"
   ]
  }
 ],
 "metadata": {
  "kernelspec": {
   "display_name": "Python 3 (ipykernel)",
   "language": "python",
   "name": "python3"
  },
  "language_info": {
   "codemirror_mode": {
    "name": "ipython",
    "version": 3
   },
   "file_extension": ".py",
   "mimetype": "text/x-python",
   "name": "python",
   "nbconvert_exporter": "python",
   "pygments_lexer": "ipython3",
   "version": "3.8.5"
  }
 },
 "nbformat": 4,
 "nbformat_minor": 5
}
